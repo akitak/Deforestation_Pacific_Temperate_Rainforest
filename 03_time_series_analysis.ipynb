{
 "cells": [
  {
   "cell_type": "markdown",
   "metadata": {},
   "source": [
    "# Deforestation of the Pacific Temperate Rainforests - Exploratory Data Analysis (Time Series)"
   ]
  },
  {
   "cell_type": "code",
   "execution_count": 1,
   "metadata": {},
   "outputs": [],
   "source": [
    "import matplotlib.pyplot as plt\n",
    "import numpy as np\n",
    "import pandas as pd\n",
    "import seaborn as sns"
   ]
  },
  {
   "cell_type": "markdown",
   "metadata": {},
   "source": [
    "## Time Series Related Assessments"
   ]
  },
  {
   "cell_type": "code",
   "execution_count": 2,
   "metadata": {},
   "outputs": [],
   "source": [
    "daily_summaries = pd.read_csv('./data/cleaned_data/central_coast_clean_daily_summary_noaa.csv')"
   ]
  },
  {
   "cell_type": "code",
   "execution_count": 3,
   "metadata": {},
   "outputs": [
    {
     "data": {
      "text/html": [
       "<div>\n",
       "<style scoped>\n",
       "    .dataframe tbody tr th:only-of-type {\n",
       "        vertical-align: middle;\n",
       "    }\n",
       "\n",
       "    .dataframe tbody tr th {\n",
       "        vertical-align: top;\n",
       "    }\n",
       "\n",
       "    .dataframe thead th {\n",
       "        text-align: right;\n",
       "    }\n",
       "</style>\n",
       "<table border=\"1\" class=\"dataframe\">\n",
       "  <thead>\n",
       "    <tr style=\"text-align: right;\">\n",
       "      <th></th>\n",
       "      <th>DATE</th>\n",
       "      <th>REGION</th>\n",
       "      <th>PRCP</th>\n",
       "      <th>TMAX</th>\n",
       "      <th>TMIN</th>\n",
       "    </tr>\n",
       "  </thead>\n",
       "  <tbody>\n",
       "    <tr>\n",
       "      <th>0</th>\n",
       "      <td>2001-01-01</td>\n",
       "      <td>Bella Coola</td>\n",
       "      <td>7.2</td>\n",
       "      <td>4.2</td>\n",
       "      <td>0.5</td>\n",
       "    </tr>\n",
       "    <tr>\n",
       "      <th>1</th>\n",
       "      <td>2001-01-02</td>\n",
       "      <td>Bella Coola</td>\n",
       "      <td>20.0</td>\n",
       "      <td>9.6</td>\n",
       "      <td>1.0</td>\n",
       "    </tr>\n",
       "    <tr>\n",
       "      <th>2</th>\n",
       "      <td>2001-01-03</td>\n",
       "      <td>Bella Coola</td>\n",
       "      <td>2.8</td>\n",
       "      <td>6.7</td>\n",
       "      <td>1.0</td>\n",
       "    </tr>\n",
       "    <tr>\n",
       "      <th>3</th>\n",
       "      <td>2001-01-04</td>\n",
       "      <td>Bella Coola</td>\n",
       "      <td>18.2</td>\n",
       "      <td>5.8</td>\n",
       "      <td>-1.2</td>\n",
       "    </tr>\n",
       "    <tr>\n",
       "      <th>4</th>\n",
       "      <td>2001-01-05</td>\n",
       "      <td>Bella Coola</td>\n",
       "      <td>4.0</td>\n",
       "      <td>6.4</td>\n",
       "      <td>1.0</td>\n",
       "    </tr>\n",
       "  </tbody>\n",
       "</table>\n",
       "</div>"
      ],
      "text/plain": [
       "         DATE       REGION  PRCP  TMAX  TMIN\n",
       "0  2001-01-01  Bella Coola   7.2   4.2   0.5\n",
       "1  2001-01-02  Bella Coola  20.0   9.6   1.0\n",
       "2  2001-01-03  Bella Coola   2.8   6.7   1.0\n",
       "3  2001-01-04  Bella Coola  18.2   5.8  -1.2\n",
       "4  2001-01-05  Bella Coola   4.0   6.4   1.0"
      ]
     },
     "execution_count": 3,
     "metadata": {},
     "output_type": "execute_result"
    }
   ],
   "source": [
    "daily_summaries.head()"
   ]
  },
  {
   "cell_type": "code",
   "execution_count": 4,
   "metadata": {},
   "outputs": [],
   "source": [
    "daily_summaries['DATE'] = pd.to_datetime(daily_summaries['DATE'], format = '%Y/%m/%d', exact = True)\n",
    "daily_summaries.set_index('DATE', inplace = True)\n",
    "daily_summaries['TAVG'] = (daily_summaries['TMAX'] + daily_summaries['TMIN']) / 2"
   ]
  },
  {
   "cell_type": "code",
   "execution_count": 5,
   "metadata": {},
   "outputs": [
    {
     "data": {
      "text/html": [
       "<div>\n",
       "<style scoped>\n",
       "    .dataframe tbody tr th:only-of-type {\n",
       "        vertical-align: middle;\n",
       "    }\n",
       "\n",
       "    .dataframe tbody tr th {\n",
       "        vertical-align: top;\n",
       "    }\n",
       "\n",
       "    .dataframe thead th {\n",
       "        text-align: right;\n",
       "    }\n",
       "</style>\n",
       "<table border=\"1\" class=\"dataframe\">\n",
       "  <thead>\n",
       "    <tr style=\"text-align: right;\">\n",
       "      <th></th>\n",
       "      <th>REGION</th>\n",
       "      <th>PRCP</th>\n",
       "      <th>TMAX</th>\n",
       "      <th>TMIN</th>\n",
       "      <th>TAVG</th>\n",
       "    </tr>\n",
       "    <tr>\n",
       "      <th>DATE</th>\n",
       "      <th></th>\n",
       "      <th></th>\n",
       "      <th></th>\n",
       "      <th></th>\n",
       "      <th></th>\n",
       "    </tr>\n",
       "  </thead>\n",
       "  <tbody>\n",
       "    <tr>\n",
       "      <th>2001-01-01</th>\n",
       "      <td>Bella Coola</td>\n",
       "      <td>7.2</td>\n",
       "      <td>4.2</td>\n",
       "      <td>0.5</td>\n",
       "      <td>2.35</td>\n",
       "    </tr>\n",
       "    <tr>\n",
       "      <th>2001-01-02</th>\n",
       "      <td>Bella Coola</td>\n",
       "      <td>20.0</td>\n",
       "      <td>9.6</td>\n",
       "      <td>1.0</td>\n",
       "      <td>5.30</td>\n",
       "    </tr>\n",
       "    <tr>\n",
       "      <th>2001-01-03</th>\n",
       "      <td>Bella Coola</td>\n",
       "      <td>2.8</td>\n",
       "      <td>6.7</td>\n",
       "      <td>1.0</td>\n",
       "      <td>3.85</td>\n",
       "    </tr>\n",
       "    <tr>\n",
       "      <th>2001-01-04</th>\n",
       "      <td>Bella Coola</td>\n",
       "      <td>18.2</td>\n",
       "      <td>5.8</td>\n",
       "      <td>-1.2</td>\n",
       "      <td>2.30</td>\n",
       "    </tr>\n",
       "    <tr>\n",
       "      <th>2001-01-05</th>\n",
       "      <td>Bella Coola</td>\n",
       "      <td>4.0</td>\n",
       "      <td>6.4</td>\n",
       "      <td>1.0</td>\n",
       "      <td>3.70</td>\n",
       "    </tr>\n",
       "  </tbody>\n",
       "</table>\n",
       "</div>"
      ],
      "text/plain": [
       "                 REGION  PRCP  TMAX  TMIN  TAVG\n",
       "DATE                                           \n",
       "2001-01-01  Bella Coola   7.2   4.2   0.5  2.35\n",
       "2001-01-02  Bella Coola  20.0   9.6   1.0  5.30\n",
       "2001-01-03  Bella Coola   2.8   6.7   1.0  3.85\n",
       "2001-01-04  Bella Coola  18.2   5.8  -1.2  2.30\n",
       "2001-01-05  Bella Coola   4.0   6.4   1.0  3.70"
      ]
     },
     "execution_count": 5,
     "metadata": {},
     "output_type": "execute_result"
    }
   ],
   "source": [
    "daily_summaries.head()"
   ]
  },
  {
   "cell_type": "code",
   "execution_count": 6,
   "metadata": {},
   "outputs": [
    {
     "data": {
      "image/png": "[encoded data removed]",
      "text/plain": [
       "<Figure size 864x864 with 1 Axes>"
      ]
     },
     "metadata": {
      "needs_background": "light"
     },
     "output_type": "display_data"
    }
   ],
   "source": [
    "plt.figure(figsize = (12, 12))\n",
    "plt.plot(daily_summaries.index, daily_summaries['PRCP'])\n",
    "plt.title('Daily Precipitation in Central Coast Region, BC, Canada 2001 - 2020')\n",
    "plt.xlabel('Year')\n",
    "plt.ylabel('Daily Precipitation (in Milliliters)');"
   ]
  },
  {
   "cell_type": "code",
   "execution_count": 7,
   "metadata": {},
   "outputs": [],
   "source": [
    "daily_summaries['PRCP_lag_365'] = daily_summaries['PRCP'].shift(365)\n",
    "daily_summaries['TMAX_lag_365'] = daily_summaries['TMAX'].shift(365)\n",
    "precipitation = daily_summaries[['PRCP', 'PRCP_lag_365']]"
   ]
  },
  {
   "cell_type": "code",
   "execution_count": 8,
   "metadata": {},
   "outputs": [
    {
     "data": {
      "text/html": [
       "<div>\n",
       "<style scoped>\n",
       "    .dataframe tbody tr th:only-of-type {\n",
       "        vertical-align: middle;\n",
       "    }\n",
       "\n",
       "    .dataframe tbody tr th {\n",
       "        vertical-align: top;\n",
       "    }\n",
       "\n",
       "    .dataframe thead th {\n",
       "        text-align: right;\n",
       "    }\n",
       "</style>\n",
       "<table border=\"1\" class=\"dataframe\">\n",
       "  <thead>\n",
       "    <tr style=\"text-align: right;\">\n",
       "      <th></th>\n",
       "      <th>PRCP</th>\n",
       "      <th>PRCP_lag_365</th>\n",
       "    </tr>\n",
       "  </thead>\n",
       "  <tbody>\n",
       "    <tr>\n",
       "      <th>PRCP</th>\n",
       "      <td>1.00000</td>\n",
       "      <td>0.07014</td>\n",
       "    </tr>\n",
       "    <tr>\n",
       "      <th>PRCP_lag_365</th>\n",
       "      <td>0.07014</td>\n",
       "      <td>1.00000</td>\n",
       "    </tr>\n",
       "  </tbody>\n",
       "</table>\n",
       "</div>"
      ],
      "text/plain": [
       "                 PRCP  PRCP_lag_365\n",
       "PRCP          1.00000       0.07014\n",
       "PRCP_lag_365  0.07014       1.00000"
      ]
     },
     "execution_count": 8,
     "metadata": {},
     "output_type": "execute_result"
    }
   ],
   "source": [
    "precipitation.corr()"
   ]
  },
  {
   "cell_type": "code",
   "execution_count": 9,
   "metadata": {},
   "outputs": [
    {
     "data": {
      "image/png": "[encoded data removed]",
      "text/plain": [
       "<Figure size 864x864 with 1 Axes>"
      ]
     },
     "metadata": {
      "needs_background": "light"
     },
     "output_type": "display_data"
    }
   ],
   "source": [
    "plt.figure(figsize = (12, 12))\n",
    "plt.plot(daily_summaries.index, daily_summaries['TMAX'])\n",
    "plt.title('Daily Maximum Temperature in Central Coast Region, BC, Canada 2001 - 2020')\n",
    "plt.xlabel('Year')\n",
    "plt.ylabel('Maximum Temperature (in Celsius)');"
   ]
  },
  {
   "cell_type": "code",
   "execution_count": 10,
   "metadata": {},
   "outputs": [
    {
     "data": {
      "text/html": [
       "<div>\n",
       "<style scoped>\n",
       "    .dataframe tbody tr th:only-of-type {\n",
       "        vertical-align: middle;\n",
       "    }\n",
       "\n",
       "    .dataframe tbody tr th {\n",
       "        vertical-align: top;\n",
       "    }\n",
       "\n",
       "    .dataframe thead th {\n",
       "        text-align: right;\n",
       "    }\n",
       "</style>\n",
       "<table border=\"1\" class=\"dataframe\">\n",
       "  <thead>\n",
       "    <tr style=\"text-align: right;\">\n",
       "      <th></th>\n",
       "      <th>REGION</th>\n",
       "      <th>PRCP</th>\n",
       "      <th>TMAX</th>\n",
       "      <th>TMIN</th>\n",
       "      <th>TAVG</th>\n",
       "      <th>PRCP_lag_365</th>\n",
       "      <th>TMAX_lag_365</th>\n",
       "    </tr>\n",
       "    <tr>\n",
       "      <th>DATE</th>\n",
       "      <th></th>\n",
       "      <th></th>\n",
       "      <th></th>\n",
       "      <th></th>\n",
       "      <th></th>\n",
       "      <th></th>\n",
       "      <th></th>\n",
       "    </tr>\n",
       "  </thead>\n",
       "  <tbody>\n",
       "    <tr>\n",
       "      <th>2001-02-07</th>\n",
       "      <td>Bella Coola</td>\n",
       "      <td>4.2</td>\n",
       "      <td>-0.7</td>\n",
       "      <td>-7.7</td>\n",
       "      <td>-4.20</td>\n",
       "      <td>NaN</td>\n",
       "      <td>NaN</td>\n",
       "    </tr>\n",
       "    <tr>\n",
       "      <th>2001-11-26</th>\n",
       "      <td>Bella Coola</td>\n",
       "      <td>5.0</td>\n",
       "      <td>-0.2</td>\n",
       "      <td>-1.2</td>\n",
       "      <td>-0.70</td>\n",
       "      <td>NaN</td>\n",
       "      <td>NaN</td>\n",
       "    </tr>\n",
       "    <tr>\n",
       "      <th>2001-11-27</th>\n",
       "      <td>Bella Coola</td>\n",
       "      <td>0.0</td>\n",
       "      <td>-0.1</td>\n",
       "      <td>-1.4</td>\n",
       "      <td>-0.75</td>\n",
       "      <td>NaN</td>\n",
       "      <td>NaN</td>\n",
       "    </tr>\n",
       "    <tr>\n",
       "      <th>2001-11-28</th>\n",
       "      <td>Bella Coola</td>\n",
       "      <td>0.0</td>\n",
       "      <td>-1.8</td>\n",
       "      <td>-4.2</td>\n",
       "      <td>-3.00</td>\n",
       "      <td>NaN</td>\n",
       "      <td>NaN</td>\n",
       "    </tr>\n",
       "    <tr>\n",
       "      <th>2001-11-29</th>\n",
       "      <td>Bella Coola</td>\n",
       "      <td>0.0</td>\n",
       "      <td>-5.1</td>\n",
       "      <td>-7.1</td>\n",
       "      <td>-6.10</td>\n",
       "      <td>NaN</td>\n",
       "      <td>NaN</td>\n",
       "    </tr>\n",
       "    <tr>\n",
       "      <th>...</th>\n",
       "      <td>...</td>\n",
       "      <td>...</td>\n",
       "      <td>...</td>\n",
       "      <td>...</td>\n",
       "      <td>...</td>\n",
       "      <td>...</td>\n",
       "      <td>...</td>\n",
       "    </tr>\n",
       "    <tr>\n",
       "      <th>2017-12-28</th>\n",
       "      <td>Bella Bella</td>\n",
       "      <td>15.2</td>\n",
       "      <td>-0.4</td>\n",
       "      <td>-2.1</td>\n",
       "      <td>-1.25</td>\n",
       "      <td>27.3</td>\n",
       "      <td>4.8</td>\n",
       "    </tr>\n",
       "    <tr>\n",
       "      <th>2017-12-29</th>\n",
       "      <td>Bella Bella</td>\n",
       "      <td>0.2</td>\n",
       "      <td>-0.7</td>\n",
       "      <td>-4.2</td>\n",
       "      <td>-2.45</td>\n",
       "      <td>0.0</td>\n",
       "      <td>3.0</td>\n",
       "    </tr>\n",
       "    <tr>\n",
       "      <th>2017-12-30</th>\n",
       "      <td>Bella Bella</td>\n",
       "      <td>0.0</td>\n",
       "      <td>-0.9</td>\n",
       "      <td>-12.8</td>\n",
       "      <td>-6.85</td>\n",
       "      <td>0.0</td>\n",
       "      <td>3.3</td>\n",
       "    </tr>\n",
       "    <tr>\n",
       "      <th>2019-02-03</th>\n",
       "      <td>Bella Bella</td>\n",
       "      <td>0.0</td>\n",
       "      <td>-7.1</td>\n",
       "      <td>-12.9</td>\n",
       "      <td>-10.00</td>\n",
       "      <td>0.6</td>\n",
       "      <td>11.3</td>\n",
       "    </tr>\n",
       "    <tr>\n",
       "      <th>2019-02-11</th>\n",
       "      <td>Bella Bella</td>\n",
       "      <td>0.0</td>\n",
       "      <td>-0.3</td>\n",
       "      <td>-10.9</td>\n",
       "      <td>-5.60</td>\n",
       "      <td>12.9</td>\n",
       "      <td>4.8</td>\n",
       "    </tr>\n",
       "  </tbody>\n",
       "</table>\n",
       "<p>130 rows × 7 columns</p>\n",
       "</div>"
      ],
      "text/plain": [
       "                 REGION  PRCP  TMAX  TMIN   TAVG  PRCP_lag_365  TMAX_lag_365\n",
       "DATE                                                                        \n",
       "2001-02-07  Bella Coola   4.2  -0.7  -7.7  -4.20           NaN           NaN\n",
       "2001-11-26  Bella Coola   5.0  -0.2  -1.2  -0.70           NaN           NaN\n",
       "2001-11-27  Bella Coola   0.0  -0.1  -1.4  -0.75           NaN           NaN\n",
       "2001-11-28  Bella Coola   0.0  -1.8  -4.2  -3.00           NaN           NaN\n",
       "2001-11-29  Bella Coola   0.0  -5.1  -7.1  -6.10           NaN           NaN\n",
       "...                 ...   ...   ...   ...    ...           ...           ...\n",
       "2017-12-28  Bella Bella  15.2  -0.4  -2.1  -1.25          27.3           4.8\n",
       "2017-12-29  Bella Bella   0.2  -0.7  -4.2  -2.45           0.0           3.0\n",
       "2017-12-30  Bella Bella   0.0  -0.9 -12.8  -6.85           0.0           3.3\n",
       "2019-02-03  Bella Bella   0.0  -7.1 -12.9 -10.00           0.6          11.3\n",
       "2019-02-11  Bella Bella   0.0  -0.3 -10.9  -5.60          12.9           4.8\n",
       "\n",
       "[130 rows x 7 columns]"
      ]
     },
     "execution_count": 10,
     "metadata": {},
     "output_type": "execute_result"
    }
   ],
   "source": [
    "daily_summaries[daily_summaries['TMAX'] < 0]"
   ]
  },
  {
   "cell_type": "code",
   "execution_count": 11,
   "metadata": {},
   "outputs": [
    {
     "data": {
      "text/html": [
       "<div>\n",
       "<style scoped>\n",
       "    .dataframe tbody tr th:only-of-type {\n",
       "        vertical-align: middle;\n",
       "    }\n",
       "\n",
       "    .dataframe tbody tr th {\n",
       "        vertical-align: top;\n",
       "    }\n",
       "\n",
       "    .dataframe thead th {\n",
       "        text-align: right;\n",
       "    }\n",
       "</style>\n",
       "<table border=\"1\" class=\"dataframe\">\n",
       "  <thead>\n",
       "    <tr style=\"text-align: right;\">\n",
       "      <th></th>\n",
       "      <th>TMAX</th>\n",
       "      <th>TMAX_lag_365</th>\n",
       "    </tr>\n",
       "  </thead>\n",
       "  <tbody>\n",
       "    <tr>\n",
       "      <th>TMAX</th>\n",
       "      <td>1.00000</td>\n",
       "      <td>0.69558</td>\n",
       "    </tr>\n",
       "    <tr>\n",
       "      <th>TMAX_lag_365</th>\n",
       "      <td>0.69558</td>\n",
       "      <td>1.00000</td>\n",
       "    </tr>\n",
       "  </tbody>\n",
       "</table>\n",
       "</div>"
      ],
      "text/plain": [
       "                 TMAX  TMAX_lag_365\n",
       "TMAX          1.00000       0.69558\n",
       "TMAX_lag_365  0.69558       1.00000"
      ]
     },
     "execution_count": 11,
     "metadata": {},
     "output_type": "execute_result"
    }
   ],
   "source": [
    "tmax = daily_summaries[['TMAX', 'TMAX_lag_365']]\n",
    "tmax.corr()"
   ]
  },
  {
   "cell_type": "code",
   "execution_count": 12,
   "metadata": {},
   "outputs": [
    {
     "data": {
      "image/png": "[encoded data removed]",
      "text/plain": [
       "<Figure size 864x864 with 1 Axes>"
      ]
     },
     "metadata": {
      "needs_background": "light"
     },
     "output_type": "display_data"
    }
   ],
   "source": [
    "plt.figure(figsize = (12, 12))\n",
    "plt.plot(daily_summaries.index, daily_summaries['TAVG'])\n",
    "plt.title('Daily Maximum Temperature in Central Coast Region, BC, Canada 2001 - 2020')\n",
    "plt.xlabel('Year')\n",
    "plt.ylabel('Maximum Temperature (in Celsius)');"
   ]
  },
  {
   "cell_type": "code",
   "execution_count": 13,
   "metadata": {},
   "outputs": [],
   "source": [
    "central_coast = pd.read_csv('./data/cleaned_data/central_coast_clean_summary.csv')"
   ]
  },
  {
   "cell_type": "code",
   "execution_count": 14,
   "metadata": {},
   "outputs": [
    {
     "data": {
      "text/html": [
       "<div>\n",
       "<style scoped>\n",
       "    .dataframe tbody tr th:only-of-type {\n",
       "        vertical-align: middle;\n",
       "    }\n",
       "\n",
       "    .dataframe tbody tr th {\n",
       "        vertical-align: top;\n",
       "    }\n",
       "\n",
       "    .dataframe thead th {\n",
       "        text-align: right;\n",
       "    }\n",
       "</style>\n",
       "<table border=\"1\" class=\"dataframe\">\n",
       "  <thead>\n",
       "    <tr style=\"text-align: right;\">\n",
       "      <th></th>\n",
       "      <th>YEAR</th>\n",
       "      <th>PRCP estimate</th>\n",
       "      <th>PRCP above 1400</th>\n",
       "      <th>TMAX</th>\n",
       "      <th>TMAX below 16 C</th>\n",
       "      <th>TMIN</th>\n",
       "      <th>TAVG</th>\n",
       "      <th>TAVG below 16 C</th>\n",
       "      <th>area_tree_cover_jan1</th>\n",
       "      <th>area_tree_cover_loss_Ha</th>\n",
       "      <th>area_burn_Ha</th>\n",
       "      <th>area_tree_cover_dec31</th>\n",
       "      <th>percentage_tree_cover_loss</th>\n",
       "      <th>percentage_tree_cover_loss_over_logging_land</th>\n",
       "      <th>co2_emission_Mg</th>\n",
       "    </tr>\n",
       "  </thead>\n",
       "  <tbody>\n",
       "    <tr>\n",
       "      <th>0</th>\n",
       "      <td>2001</td>\n",
       "      <td>1203.100000</td>\n",
       "      <td>False</td>\n",
       "      <td>29.0</td>\n",
       "      <td>False</td>\n",
       "      <td>2.6</td>\n",
       "      <td>15.80</td>\n",
       "      <td>True</td>\n",
       "      <td>1.603821e+06</td>\n",
       "      <td>1203.934039</td>\n",
       "      <td>145.388563</td>\n",
       "      <td>1.602618e+06</td>\n",
       "      <td>0.000751</td>\n",
       "      <td>0.000751</td>\n",
       "      <td>5.147169e+05</td>\n",
       "    </tr>\n",
       "    <tr>\n",
       "      <th>1</th>\n",
       "      <td>2002</td>\n",
       "      <td>1035.135989</td>\n",
       "      <td>False</td>\n",
       "      <td>31.0</td>\n",
       "      <td>False</td>\n",
       "      <td>2.3</td>\n",
       "      <td>16.65</td>\n",
       "      <td>False</td>\n",
       "      <td>1.602618e+06</td>\n",
       "      <td>1298.841284</td>\n",
       "      <td>25.373653</td>\n",
       "      <td>1.601319e+06</td>\n",
       "      <td>0.000810</td>\n",
       "      <td>0.000810</td>\n",
       "      <td>4.873691e+05</td>\n",
       "    </tr>\n",
       "    <tr>\n",
       "      <th>2</th>\n",
       "      <td>2003</td>\n",
       "      <td>1192.479042</td>\n",
       "      <td>False</td>\n",
       "      <td>33.2</td>\n",
       "      <td>False</td>\n",
       "      <td>3.4</td>\n",
       "      <td>18.30</td>\n",
       "      <td>False</td>\n",
       "      <td>1.601319e+06</td>\n",
       "      <td>796.634859</td>\n",
       "      <td>100.980558</td>\n",
       "      <td>1.600522e+06</td>\n",
       "      <td>0.000497</td>\n",
       "      <td>0.000497</td>\n",
       "      <td>3.320122e+05</td>\n",
       "    </tr>\n",
       "    <tr>\n",
       "      <th>3</th>\n",
       "      <td>2004</td>\n",
       "      <td>1484.433060</td>\n",
       "      <td>True</td>\n",
       "      <td>34.7</td>\n",
       "      <td>False</td>\n",
       "      <td>3.4</td>\n",
       "      <td>19.05</td>\n",
       "      <td>False</td>\n",
       "      <td>1.600522e+06</td>\n",
       "      <td>10855.552080</td>\n",
       "      <td>15065.489648</td>\n",
       "      <td>1.589667e+06</td>\n",
       "      <td>0.006783</td>\n",
       "      <td>0.006783</td>\n",
       "      <td>2.194606e+06</td>\n",
       "    </tr>\n",
       "    <tr>\n",
       "      <th>4</th>\n",
       "      <td>2005</td>\n",
       "      <td>1418.691617</td>\n",
       "      <td>True</td>\n",
       "      <td>31.2</td>\n",
       "      <td>False</td>\n",
       "      <td>5.3</td>\n",
       "      <td>18.25</td>\n",
       "      <td>False</td>\n",
       "      <td>1.589667e+06</td>\n",
       "      <td>3906.168671</td>\n",
       "      <td>33.792675</td>\n",
       "      <td>1.585760e+06</td>\n",
       "      <td>0.002457</td>\n",
       "      <td>0.002457</td>\n",
       "      <td>1.283370e+06</td>\n",
       "    </tr>\n",
       "  </tbody>\n",
       "</table>\n",
       "</div>"
      ],
      "text/plain": [
       "   YEAR  PRCP estimate  PRCP above 1400  TMAX  TMAX below 16 C  TMIN   TAVG  \\\n",
       "0  2001    1203.100000            False  29.0            False   2.6  15.80   \n",
       "1  2002    1035.135989            False  31.0            False   2.3  16.65   \n",
       "2  2003    1192.479042            False  33.2            False   3.4  18.30   \n",
       "3  2004    1484.433060             True  34.7            False   3.4  19.05   \n",
       "4  2005    1418.691617             True  31.2            False   5.3  18.25   \n",
       "\n",
       "   TAVG below 16 C  area_tree_cover_jan1  area_tree_cover_loss_Ha  \\\n",
       "0             True          1.603821e+06              1203.934039   \n",
       "1            False          1.602618e+06              1298.841284   \n",
       "2            False          1.601319e+06               796.634859   \n",
       "3            False          1.600522e+06             10855.552080   \n",
       "4            False          1.589667e+06              3906.168671   \n",
       "\n",
       "   area_burn_Ha  area_tree_cover_dec31  percentage_tree_cover_loss  \\\n",
       "0    145.388563           1.602618e+06                    0.000751   \n",
       "1     25.373653           1.601319e+06                    0.000810   \n",
       "2    100.980558           1.600522e+06                    0.000497   \n",
       "3  15065.489648           1.589667e+06                    0.006783   \n",
       "4     33.792675           1.585760e+06                    0.002457   \n",
       "\n",
       "   percentage_tree_cover_loss_over_logging_land  co2_emission_Mg  \n",
       "0                                      0.000751     5.147169e+05  \n",
       "1                                      0.000810     4.873691e+05  \n",
       "2                                      0.000497     3.320122e+05  \n",
       "3                                      0.006783     2.194606e+06  \n",
       "4                                      0.002457     1.283370e+06  "
      ]
     },
     "execution_count": 14,
     "metadata": {},
     "output_type": "execute_result"
    }
   ],
   "source": [
    "central_coast.head()"
   ]
  },
  {
   "cell_type": "code",
   "execution_count": 15,
   "metadata": {},
   "outputs": [],
   "source": [
    "central_coast['YEAR'] = pd.to_datetime(central_coast['YEAR'], format = '%Y/%m/%d', exact = True)\n",
    "central_coast.set_index('YEAR', inplace = True)"
   ]
  },
  {
   "cell_type": "code",
   "execution_count": 16,
   "metadata": {},
   "outputs": [],
   "source": [
    "central_coast['PRCP estimate lag 1'] = central_coast['PRCP estimate'].shift(1)\n",
    "central_coast['TMAX lag 1'] = central_coast['TMAX'].shift(1)\n",
    "central_coast['TMIN lag 1'] = central_coast['TMIN'].shift(1)\n",
    "central_coast['TAVG lag 1'] = central_coast['TAVG'].shift(1)\n",
    "central_coast['area_tree_cover_loss_Ha lag 1'] = central_coast['area_tree_cover_loss_Ha'].shift(1)\n",
    "central_coast['area_burn_Ha lag 1'] = central_coast['area_burn_Ha'].shift(1)\n",
    "central_coast['percentage_tree_cover_loss lag 1'] = central_coast['percentage_tree_cover_loss'].shift(1)\n",
    "central_coast['co2_emission_Mg lag 1'] = central_coast['co2_emission_Mg'].shift(1)"
   ]
  },
  {
   "cell_type": "code",
   "execution_count": 17,
   "metadata": {},
   "outputs": [
    {
     "data": {
      "text/html": [
       "<div>\n",
       "<style scoped>\n",
       "    .dataframe tbody tr th:only-of-type {\n",
       "        vertical-align: middle;\n",
       "    }\n",
       "\n",
       "    .dataframe tbody tr th {\n",
       "        vertical-align: top;\n",
       "    }\n",
       "\n",
       "    .dataframe thead th {\n",
       "        text-align: right;\n",
       "    }\n",
       "</style>\n",
       "<table border=\"1\" class=\"dataframe\">\n",
       "  <thead>\n",
       "    <tr style=\"text-align: right;\">\n",
       "      <th></th>\n",
       "      <th>PRCP estimate lag 1</th>\n",
       "      <th>PRCP estimate</th>\n",
       "    </tr>\n",
       "  </thead>\n",
       "  <tbody>\n",
       "    <tr>\n",
       "      <th>PRCP estimate lag 1</th>\n",
       "      <td>1.000000</td>\n",
       "      <td>0.536377</td>\n",
       "    </tr>\n",
       "    <tr>\n",
       "      <th>PRCP estimate</th>\n",
       "      <td>0.536377</td>\n",
       "      <td>1.000000</td>\n",
       "    </tr>\n",
       "  </tbody>\n",
       "</table>\n",
       "</div>"
      ],
      "text/plain": [
       "                     PRCP estimate lag 1  PRCP estimate\n",
       "PRCP estimate lag 1             1.000000       0.536377\n",
       "PRCP estimate                   0.536377       1.000000"
      ]
     },
     "execution_count": 17,
     "metadata": {},
     "output_type": "execute_result"
    }
   ],
   "source": [
    "central_coast_prcp_est = central_coast[['PRCP estimate lag 1', 'PRCP estimate']]\n",
    "central_coast_prcp_est.corr()"
   ]
  },
  {
   "cell_type": "code",
   "execution_count": 18,
   "metadata": {},
   "outputs": [
    {
     "data": {
      "text/html": [
       "<div>\n",
       "<style scoped>\n",
       "    .dataframe tbody tr th:only-of-type {\n",
       "        vertical-align: middle;\n",
       "    }\n",
       "\n",
       "    .dataframe tbody tr th {\n",
       "        vertical-align: top;\n",
       "    }\n",
       "\n",
       "    .dataframe thead th {\n",
       "        text-align: right;\n",
       "    }\n",
       "</style>\n",
       "<table border=\"1\" class=\"dataframe\">\n",
       "  <thead>\n",
       "    <tr style=\"text-align: right;\">\n",
       "      <th></th>\n",
       "      <th>TMAX lag 1</th>\n",
       "      <th>TMAX</th>\n",
       "    </tr>\n",
       "  </thead>\n",
       "  <tbody>\n",
       "    <tr>\n",
       "      <th>TMAX lag 1</th>\n",
       "      <td>1.000000</td>\n",
       "      <td>0.319951</td>\n",
       "    </tr>\n",
       "    <tr>\n",
       "      <th>TMAX</th>\n",
       "      <td>0.319951</td>\n",
       "      <td>1.000000</td>\n",
       "    </tr>\n",
       "  </tbody>\n",
       "</table>\n",
       "</div>"
      ],
      "text/plain": [
       "            TMAX lag 1      TMAX\n",
       "TMAX lag 1    1.000000  0.319951\n",
       "TMAX          0.319951  1.000000"
      ]
     },
     "execution_count": 18,
     "metadata": {},
     "output_type": "execute_result"
    }
   ],
   "source": [
    "central_coast_tmax = central_coast[['TMAX lag 1', 'TMAX']]\n",
    "central_coast_tmax.corr()"
   ]
  },
  {
   "cell_type": "code",
   "execution_count": 19,
   "metadata": {},
   "outputs": [
    {
     "data": {
      "text/html": [
       "<div>\n",
       "<style scoped>\n",
       "    .dataframe tbody tr th:only-of-type {\n",
       "        vertical-align: middle;\n",
       "    }\n",
       "\n",
       "    .dataframe tbody tr th {\n",
       "        vertical-align: top;\n",
       "    }\n",
       "\n",
       "    .dataframe thead th {\n",
       "        text-align: right;\n",
       "    }\n",
       "</style>\n",
       "<table border=\"1\" class=\"dataframe\">\n",
       "  <thead>\n",
       "    <tr style=\"text-align: right;\">\n",
       "      <th></th>\n",
       "      <th>TMIN lag 1</th>\n",
       "      <th>TMIN</th>\n",
       "    </tr>\n",
       "  </thead>\n",
       "  <tbody>\n",
       "    <tr>\n",
       "      <th>TMIN lag 1</th>\n",
       "      <td>1.000000</td>\n",
       "      <td>0.054018</td>\n",
       "    </tr>\n",
       "    <tr>\n",
       "      <th>TMIN</th>\n",
       "      <td>0.054018</td>\n",
       "      <td>1.000000</td>\n",
       "    </tr>\n",
       "  </tbody>\n",
       "</table>\n",
       "</div>"
      ],
      "text/plain": [
       "            TMIN lag 1      TMIN\n",
       "TMIN lag 1    1.000000  0.054018\n",
       "TMIN          0.054018  1.000000"
      ]
     },
     "execution_count": 19,
     "metadata": {},
     "output_type": "execute_result"
    }
   ],
   "source": [
    "central_coast_tmin = central_coast[['TMIN lag 1', 'TMIN']]\n",
    "central_coast_tmin.corr()"
   ]
  },
  {
   "cell_type": "code",
   "execution_count": 20,
   "metadata": {},
   "outputs": [
    {
     "data": {
      "text/html": [
       "<div>\n",
       "<style scoped>\n",
       "    .dataframe tbody tr th:only-of-type {\n",
       "        vertical-align: middle;\n",
       "    }\n",
       "\n",
       "    .dataframe tbody tr th {\n",
       "        vertical-align: top;\n",
       "    }\n",
       "\n",
       "    .dataframe thead th {\n",
       "        text-align: right;\n",
       "    }\n",
       "</style>\n",
       "<table border=\"1\" class=\"dataframe\">\n",
       "  <thead>\n",
       "    <tr style=\"text-align: right;\">\n",
       "      <th></th>\n",
       "      <th>TAVG lag 1</th>\n",
       "      <th>TAVG</th>\n",
       "    </tr>\n",
       "  </thead>\n",
       "  <tbody>\n",
       "    <tr>\n",
       "      <th>TAVG lag 1</th>\n",
       "      <td>1.0000</td>\n",
       "      <td>0.1967</td>\n",
       "    </tr>\n",
       "    <tr>\n",
       "      <th>TAVG</th>\n",
       "      <td>0.1967</td>\n",
       "      <td>1.0000</td>\n",
       "    </tr>\n",
       "  </tbody>\n",
       "</table>\n",
       "</div>"
      ],
      "text/plain": [
       "            TAVG lag 1    TAVG\n",
       "TAVG lag 1      1.0000  0.1967\n",
       "TAVG            0.1967  1.0000"
      ]
     },
     "execution_count": 20,
     "metadata": {},
     "output_type": "execute_result"
    }
   ],
   "source": [
    "central_coast_tavg = central_coast[['TAVG lag 1', 'TAVG']]\n",
    "central_coast_tavg.corr()"
   ]
  },
  {
   "cell_type": "code",
   "execution_count": 21,
   "metadata": {},
   "outputs": [
    {
     "data": {
      "text/html": [
       "<div>\n",
       "<style scoped>\n",
       "    .dataframe tbody tr th:only-of-type {\n",
       "        vertical-align: middle;\n",
       "    }\n",
       "\n",
       "    .dataframe tbody tr th {\n",
       "        vertical-align: top;\n",
       "    }\n",
       "\n",
       "    .dataframe thead th {\n",
       "        text-align: right;\n",
       "    }\n",
       "</style>\n",
       "<table border=\"1\" class=\"dataframe\">\n",
       "  <thead>\n",
       "    <tr style=\"text-align: right;\">\n",
       "      <th></th>\n",
       "      <th>area_tree_cover_loss_Ha lag 1</th>\n",
       "      <th>area_tree_cover_loss_Ha</th>\n",
       "    </tr>\n",
       "  </thead>\n",
       "  <tbody>\n",
       "    <tr>\n",
       "      <th>area_tree_cover_loss_Ha lag 1</th>\n",
       "      <td>1.000000</td>\n",
       "      <td>-0.010537</td>\n",
       "    </tr>\n",
       "    <tr>\n",
       "      <th>area_tree_cover_loss_Ha</th>\n",
       "      <td>-0.010537</td>\n",
       "      <td>1.000000</td>\n",
       "    </tr>\n",
       "  </tbody>\n",
       "</table>\n",
       "</div>"
      ],
      "text/plain": [
       "                               area_tree_cover_loss_Ha lag 1  \\\n",
       "area_tree_cover_loss_Ha lag 1                       1.000000   \n",
       "area_tree_cover_loss_Ha                            -0.010537   \n",
       "\n",
       "                               area_tree_cover_loss_Ha  \n",
       "area_tree_cover_loss_Ha lag 1                -0.010537  \n",
       "area_tree_cover_loss_Ha                       1.000000  "
      ]
     },
     "execution_count": 21,
     "metadata": {},
     "output_type": "execute_result"
    }
   ],
   "source": [
    "central_coast_tree_cover_loss = central_coast[['area_tree_cover_loss_Ha lag 1', 'area_tree_cover_loss_Ha']]\n",
    "central_coast_tree_cover_loss.corr()"
   ]
  },
  {
   "cell_type": "code",
   "execution_count": 22,
   "metadata": {},
   "outputs": [
    {
     "data": {
      "text/html": [
       "<div>\n",
       "<style scoped>\n",
       "    .dataframe tbody tr th:only-of-type {\n",
       "        vertical-align: middle;\n",
       "    }\n",
       "\n",
       "    .dataframe tbody tr th {\n",
       "        vertical-align: top;\n",
       "    }\n",
       "\n",
       "    .dataframe thead th {\n",
       "        text-align: right;\n",
       "    }\n",
       "</style>\n",
       "<table border=\"1\" class=\"dataframe\">\n",
       "  <thead>\n",
       "    <tr style=\"text-align: right;\">\n",
       "      <th></th>\n",
       "      <th>area_burn_Ha lag 1</th>\n",
       "      <th>area_burn_Ha</th>\n",
       "    </tr>\n",
       "  </thead>\n",
       "  <tbody>\n",
       "    <tr>\n",
       "      <th>area_burn_Ha lag 1</th>\n",
       "      <td>1.000000</td>\n",
       "      <td>-0.059903</td>\n",
       "    </tr>\n",
       "    <tr>\n",
       "      <th>area_burn_Ha</th>\n",
       "      <td>-0.059903</td>\n",
       "      <td>1.000000</td>\n",
       "    </tr>\n",
       "  </tbody>\n",
       "</table>\n",
       "</div>"
      ],
      "text/plain": [
       "                    area_burn_Ha lag 1  area_burn_Ha\n",
       "area_burn_Ha lag 1            1.000000     -0.059903\n",
       "area_burn_Ha                 -0.059903      1.000000"
      ]
     },
     "execution_count": 22,
     "metadata": {},
     "output_type": "execute_result"
    }
   ],
   "source": [
    "central_coast_area_burn = central_coast[['area_burn_Ha lag 1', 'area_burn_Ha']]\n",
    "central_coast_area_burn.corr()"
   ]
  },
  {
   "cell_type": "code",
   "execution_count": 23,
   "metadata": {},
   "outputs": [
    {
     "data": {
      "text/html": [
       "<div>\n",
       "<style scoped>\n",
       "    .dataframe tbody tr th:only-of-type {\n",
       "        vertical-align: middle;\n",
       "    }\n",
       "\n",
       "    .dataframe tbody tr th {\n",
       "        vertical-align: top;\n",
       "    }\n",
       "\n",
       "    .dataframe thead th {\n",
       "        text-align: right;\n",
       "    }\n",
       "</style>\n",
       "<table border=\"1\" class=\"dataframe\">\n",
       "  <thead>\n",
       "    <tr style=\"text-align: right;\">\n",
       "      <th></th>\n",
       "      <th>percentage_tree_cover_loss lag 1</th>\n",
       "      <th>percentage_tree_cover_loss</th>\n",
       "    </tr>\n",
       "  </thead>\n",
       "  <tbody>\n",
       "    <tr>\n",
       "      <th>percentage_tree_cover_loss lag 1</th>\n",
       "      <td>1.000000</td>\n",
       "      <td>-0.010895</td>\n",
       "    </tr>\n",
       "    <tr>\n",
       "      <th>percentage_tree_cover_loss</th>\n",
       "      <td>-0.010895</td>\n",
       "      <td>1.000000</td>\n",
       "    </tr>\n",
       "  </tbody>\n",
       "</table>\n",
       "</div>"
      ],
      "text/plain": [
       "                                  percentage_tree_cover_loss lag 1  \\\n",
       "percentage_tree_cover_loss lag 1                          1.000000   \n",
       "percentage_tree_cover_loss                               -0.010895   \n",
       "\n",
       "                                  percentage_tree_cover_loss  \n",
       "percentage_tree_cover_loss lag 1                   -0.010895  \n",
       "percentage_tree_cover_loss                          1.000000  "
      ]
     },
     "execution_count": 23,
     "metadata": {},
     "output_type": "execute_result"
    }
   ],
   "source": [
    "central_coast_percentage_tree_cover_loss = central_coast[['percentage_tree_cover_loss lag 1', 'percentage_tree_cover_loss']]\n",
    "central_coast_percentage_tree_cover_loss.corr()"
   ]
  },
  {
   "cell_type": "code",
   "execution_count": 24,
   "metadata": {},
   "outputs": [
    {
     "data": {
      "text/html": [
       "<div>\n",
       "<style scoped>\n",
       "    .dataframe tbody tr th:only-of-type {\n",
       "        vertical-align: middle;\n",
       "    }\n",
       "\n",
       "    .dataframe tbody tr th {\n",
       "        vertical-align: top;\n",
       "    }\n",
       "\n",
       "    .dataframe thead th {\n",
       "        text-align: right;\n",
       "    }\n",
       "</style>\n",
       "<table border=\"1\" class=\"dataframe\">\n",
       "  <thead>\n",
       "    <tr style=\"text-align: right;\">\n",
       "      <th></th>\n",
       "      <th>co2_emission_Mg lag 1</th>\n",
       "      <th>co2_emission_Mg</th>\n",
       "    </tr>\n",
       "  </thead>\n",
       "  <tbody>\n",
       "    <tr>\n",
       "      <th>co2_emission_Mg lag 1</th>\n",
       "      <td>1.000000</td>\n",
       "      <td>0.109899</td>\n",
       "    </tr>\n",
       "    <tr>\n",
       "      <th>co2_emission_Mg</th>\n",
       "      <td>0.109899</td>\n",
       "      <td>1.000000</td>\n",
       "    </tr>\n",
       "  </tbody>\n",
       "</table>\n",
       "</div>"
      ],
      "text/plain": [
       "                       co2_emission_Mg lag 1  co2_emission_Mg\n",
       "co2_emission_Mg lag 1               1.000000         0.109899\n",
       "co2_emission_Mg                     0.109899         1.000000"
      ]
     },
     "execution_count": 24,
     "metadata": {},
     "output_type": "execute_result"
    }
   ],
   "source": [
    "central_coast_co2 = central_coast[['co2_emission_Mg lag 1', 'co2_emission_Mg']]\n",
    "central_coast_co2.corr()"
   ]
  },
  {
   "cell_type": "markdown",
   "metadata": {},
   "source": [
    "Autocorrelation for 1 year span\n",
    "\n",
    "|Parameter|Autocorrelation Coefficient|\n",
    "|---|---|\n",
    "|Annual Precipitation|0.5364|\n",
    "|Annual Maximum Temperature|0.3200|\n",
    "|Annual Minimum Temperature|0.054018|\n",
    "|Annual Average Temperature|0.1967|\n",
    "|Annual Area of Tree Cover Loss|-0.01054|\n",
    "|Annual Area of Burnt Tree Cover|-0.059903|\n",
    "|Annual Percentage Area of Tree Cover Loss|-0.010895|\n",
    "|Annual CO2 emission|0.109899|\n"
   ]
  }
 ],
 "metadata": {
  "kernelspec": {
   "display_name": "Python 3",
   "language": "python",
   "name": "python3"
  },
  "language_info": {
   "codemirror_mode": {
    "name": "ipython",
    "version": 3
   },
   "file_extension": ".py",
   "mimetype": "text/x-python",
   "name": "python",
   "nbconvert_exporter": "python",
   "pygments_lexer": "ipython3",
   "version": "3.8.8"
  }
 },
 "nbformat": 4,
 "nbformat_minor": 4
}
