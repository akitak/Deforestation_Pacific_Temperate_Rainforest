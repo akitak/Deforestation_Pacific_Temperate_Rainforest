{
 "cells": [
  {
   "cell_type": "markdown",
   "id": "867e2f29-d9fb-4854-8e3a-a9d26cefd570",
   "metadata": {},
   "source": [
    "# Deforestation of the Pacific Temperate Rainforests - Modeling"
   ]
  },
  {
   "cell_type": "code",
   "execution_count": 1,
   "id": "9581eb68-02fe-4746-b78d-8b3823cd2ce6",
   "metadata": {},
   "outputs": [],
   "source": [
    "import matplotlib.pyplot as plt\n",
    "import numpy as np\n",
    "import pandas as pd\n",
    "import seaborn as sns\n",
    "\n",
    "from sklearn import metrics\n",
    "from sklearn.model_selection import cross_val_score, train_test_split\n",
    "from sklearn.linear_model import LinearRegression\n",
    "from sklearn.preprocessing import StandardScaler\n",
    "from sklearn.ensemble import RandomForestRegressor, ExtraTreesRegressor, AdaBoostRegressor, BaggingRegressor\n",
    "\n",
    "import tensorflow as tf\n",
    "\n",
    "from tensorflow.keras.models import Sequential\n",
    "from tensorflow.keras.layers import Dense, Dropout, BatchNormalization\n",
    "from tensorflow.keras.regularizers import l1, l2, l1_l2"
   ]
  },
  {
   "cell_type": "code",
   "execution_count": 2,
   "id": "fe95fc2d-ad49-45c3-bc8f-6d39d9d0dd48",
   "metadata": {},
   "outputs": [],
   "source": [
    "model_data = pd.read_csv('./data/cleaned_data/central_coast_model_df.csv')"
   ]
  },
  {
   "cell_type": "code",
   "execution_count": 3,
   "id": "8b63c8a3-b845-4e05-9015-eb538dcfc6a4",
   "metadata": {},
   "outputs": [],
   "source": [
    "model_data.set_index('YEAR', inplace = True)"
   ]
  },
  {
   "cell_type": "code",
   "execution_count": 4,
   "id": "72552aec-d37e-4671-9d61-6d08cf949f2f",
   "metadata": {},
   "outputs": [
    {
     "data": {
      "text/html": [
       "<div>\n",
       "<style scoped>\n",
       "    .dataframe tbody tr th:only-of-type {\n",
       "        vertical-align: middle;\n",
       "    }\n",
       "\n",
       "    .dataframe tbody tr th {\n",
       "        vertical-align: top;\n",
       "    }\n",
       "\n",
       "    .dataframe thead th {\n",
       "        text-align: right;\n",
       "    }\n",
       "</style>\n",
       "<table border=\"1\" class=\"dataframe\">\n",
       "  <thead>\n",
       "    <tr style=\"text-align: right;\">\n",
       "      <th></th>\n",
       "      <th>PRCP estimate</th>\n",
       "      <th>TMAX</th>\n",
       "      <th>TMIN</th>\n",
       "      <th>TAVG</th>\n",
       "      <th>area_tree_cover_jan1</th>\n",
       "      <th>area_tree_cover_loss_Ha</th>\n",
       "      <th>area_burn_Ha</th>\n",
       "      <th>area_tree_cover_dec31</th>\n",
       "      <th>percentage_tree_cover_loss</th>\n",
       "      <th>percentage_tree_cover_loss_over_logging_land</th>\n",
       "      <th>co2_emission_Mg</th>\n",
       "      <th>cumulative_loss_area</th>\n",
       "      <th>true_area_tree_cover_jan1</th>\n",
       "      <th>true_area_tree_cover_dec31</th>\n",
       "      <th>true_percentage_tree_cover_loss</th>\n",
       "    </tr>\n",
       "    <tr>\n",
       "      <th>YEAR</th>\n",
       "      <th></th>\n",
       "      <th></th>\n",
       "      <th></th>\n",
       "      <th></th>\n",
       "      <th></th>\n",
       "      <th></th>\n",
       "      <th></th>\n",
       "      <th></th>\n",
       "      <th></th>\n",
       "      <th></th>\n",
       "      <th></th>\n",
       "      <th></th>\n",
       "      <th></th>\n",
       "      <th></th>\n",
       "      <th></th>\n",
       "    </tr>\n",
       "  </thead>\n",
       "  <tbody>\n",
       "    <tr>\n",
       "      <th>2001</th>\n",
       "      <td>1203.100000</td>\n",
       "      <td>29.0</td>\n",
       "      <td>2.6</td>\n",
       "      <td>15.80</td>\n",
       "      <td>1.603821e+06</td>\n",
       "      <td>1203.934039</td>\n",
       "      <td>145.388563</td>\n",
       "      <td>1.602618e+06</td>\n",
       "      <td>0.000751</td>\n",
       "      <td>0.000751</td>\n",
       "      <td>5.147169e+05</td>\n",
       "      <td>1349.322602</td>\n",
       "      <td>1.603821e+06</td>\n",
       "      <td>1.602472e+06</td>\n",
       "      <td>0.000841</td>\n",
       "    </tr>\n",
       "    <tr>\n",
       "      <th>2002</th>\n",
       "      <td>1035.135989</td>\n",
       "      <td>31.0</td>\n",
       "      <td>2.3</td>\n",
       "      <td>16.65</td>\n",
       "      <td>1.602618e+06</td>\n",
       "      <td>1298.841284</td>\n",
       "      <td>25.373653</td>\n",
       "      <td>1.601319e+06</td>\n",
       "      <td>0.000810</td>\n",
       "      <td>0.000810</td>\n",
       "      <td>4.873691e+05</td>\n",
       "      <td>1324.214936</td>\n",
       "      <td>1.602472e+06</td>\n",
       "      <td>1.601293e+06</td>\n",
       "      <td>0.000826</td>\n",
       "    </tr>\n",
       "    <tr>\n",
       "      <th>2003</th>\n",
       "      <td>1192.479042</td>\n",
       "      <td>33.2</td>\n",
       "      <td>3.4</td>\n",
       "      <td>18.30</td>\n",
       "      <td>1.601319e+06</td>\n",
       "      <td>796.634859</td>\n",
       "      <td>100.980558</td>\n",
       "      <td>1.600522e+06</td>\n",
       "      <td>0.000497</td>\n",
       "      <td>0.000497</td>\n",
       "      <td>3.320122e+05</td>\n",
       "      <td>897.615416</td>\n",
       "      <td>1.601147e+06</td>\n",
       "      <td>1.600421e+06</td>\n",
       "      <td>0.000561</td>\n",
       "    </tr>\n",
       "    <tr>\n",
       "      <th>2004</th>\n",
       "      <td>1484.433060</td>\n",
       "      <td>34.7</td>\n",
       "      <td>3.4</td>\n",
       "      <td>19.05</td>\n",
       "      <td>1.600522e+06</td>\n",
       "      <td>10855.552080</td>\n",
       "      <td>15065.489648</td>\n",
       "      <td>1.589667e+06</td>\n",
       "      <td>0.006783</td>\n",
       "      <td>0.006783</td>\n",
       "      <td>2.194606e+06</td>\n",
       "      <td>25921.041728</td>\n",
       "      <td>1.600250e+06</td>\n",
       "      <td>1.574601e+06</td>\n",
       "      <td>0.016198</td>\n",
       "    </tr>\n",
       "    <tr>\n",
       "      <th>2005</th>\n",
       "      <td>1418.691617</td>\n",
       "      <td>31.2</td>\n",
       "      <td>5.3</td>\n",
       "      <td>18.25</td>\n",
       "      <td>1.589667e+06</td>\n",
       "      <td>3906.168671</td>\n",
       "      <td>33.792675</td>\n",
       "      <td>1.585760e+06</td>\n",
       "      <td>0.002457</td>\n",
       "      <td>0.002457</td>\n",
       "      <td>1.283370e+06</td>\n",
       "      <td>3939.961346</td>\n",
       "      <td>1.574329e+06</td>\n",
       "      <td>1.585727e+06</td>\n",
       "      <td>0.002503</td>\n",
       "    </tr>\n",
       "    <tr>\n",
       "      <th>2006</th>\n",
       "      <td>2056.948324</td>\n",
       "      <td>28.9</td>\n",
       "      <td>4.4</td>\n",
       "      <td>16.65</td>\n",
       "      <td>1.585760e+06</td>\n",
       "      <td>1052.593717</td>\n",
       "      <td>0.000000</td>\n",
       "      <td>1.584708e+06</td>\n",
       "      <td>0.000664</td>\n",
       "      <td>0.000664</td>\n",
       "      <td>4.392463e+05</td>\n",
       "      <td>1052.593717</td>\n",
       "      <td>1.570389e+06</td>\n",
       "      <td>1.584708e+06</td>\n",
       "      <td>0.000670</td>\n",
       "    </tr>\n",
       "    <tr>\n",
       "      <th>2007</th>\n",
       "      <td>3786.482808</td>\n",
       "      <td>32.1</td>\n",
       "      <td>5.4</td>\n",
       "      <td>18.75</td>\n",
       "      <td>1.584708e+06</td>\n",
       "      <td>2216.374182</td>\n",
       "      <td>0.000000</td>\n",
       "      <td>1.582491e+06</td>\n",
       "      <td>0.001399</td>\n",
       "      <td>0.001399</td>\n",
       "      <td>8.476379e+05</td>\n",
       "      <td>2216.374182</td>\n",
       "      <td>1.569336e+06</td>\n",
       "      <td>1.582491e+06</td>\n",
       "      <td>0.001412</td>\n",
       "    </tr>\n",
       "    <tr>\n",
       "      <th>2008</th>\n",
       "      <td>2979.971671</td>\n",
       "      <td>28.1</td>\n",
       "      <td>2.7</td>\n",
       "      <td>15.40</td>\n",
       "      <td>1.582491e+06</td>\n",
       "      <td>1278.326130</td>\n",
       "      <td>0.000000</td>\n",
       "      <td>1.581213e+06</td>\n",
       "      <td>0.000808</td>\n",
       "      <td>0.000808</td>\n",
       "      <td>5.850874e+05</td>\n",
       "      <td>1278.326130</td>\n",
       "      <td>1.567120e+06</td>\n",
       "      <td>1.581213e+06</td>\n",
       "      <td>0.000816</td>\n",
       "    </tr>\n",
       "    <tr>\n",
       "      <th>2009</th>\n",
       "      <td>2725.775140</td>\n",
       "      <td>32.0</td>\n",
       "      <td>4.0</td>\n",
       "      <td>18.00</td>\n",
       "      <td>1.581213e+06</td>\n",
       "      <td>4125.643557</td>\n",
       "      <td>5091.424460</td>\n",
       "      <td>1.577087e+06</td>\n",
       "      <td>0.002609</td>\n",
       "      <td>0.002609</td>\n",
       "      <td>1.211515e+06</td>\n",
       "      <td>9217.068017</td>\n",
       "      <td>1.565842e+06</td>\n",
       "      <td>1.571996e+06</td>\n",
       "      <td>0.005886</td>\n",
       "    </tr>\n",
       "    <tr>\n",
       "      <th>2010</th>\n",
       "      <td>2464.014493</td>\n",
       "      <td>33.1</td>\n",
       "      <td>4.1</td>\n",
       "      <td>18.60</td>\n",
       "      <td>1.577087e+06</td>\n",
       "      <td>3246.653750</td>\n",
       "      <td>4683.797245</td>\n",
       "      <td>1.573841e+06</td>\n",
       "      <td>0.002059</td>\n",
       "      <td>0.002059</td>\n",
       "      <td>1.066041e+06</td>\n",
       "      <td>7930.450995</td>\n",
       "      <td>1.556624e+06</td>\n",
       "      <td>1.569157e+06</td>\n",
       "      <td>0.005095</td>\n",
       "    </tr>\n",
       "    <tr>\n",
       "      <th>2011</th>\n",
       "      <td>3484.750720</td>\n",
       "      <td>23.8</td>\n",
       "      <td>4.0</td>\n",
       "      <td>13.90</td>\n",
       "      <td>1.573841e+06</td>\n",
       "      <td>1382.967631</td>\n",
       "      <td>0.000000</td>\n",
       "      <td>1.572458e+06</td>\n",
       "      <td>0.000879</td>\n",
       "      <td>0.000879</td>\n",
       "      <td>4.730757e+05</td>\n",
       "      <td>1382.967631</td>\n",
       "      <td>1.548694e+06</td>\n",
       "      <td>1.572458e+06</td>\n",
       "      <td>0.000893</td>\n",
       "    </tr>\n",
       "    <tr>\n",
       "      <th>2012</th>\n",
       "      <td>2999.361429</td>\n",
       "      <td>28.3</td>\n",
       "      <td>2.6</td>\n",
       "      <td>15.45</td>\n",
       "      <td>1.572458e+06</td>\n",
       "      <td>1516.291746</td>\n",
       "      <td>25.256939</td>\n",
       "      <td>1.570942e+06</td>\n",
       "      <td>0.000964</td>\n",
       "      <td>0.000964</td>\n",
       "      <td>6.945718e+05</td>\n",
       "      <td>1541.548685</td>\n",
       "      <td>1.547311e+06</td>\n",
       "      <td>1.570916e+06</td>\n",
       "      <td>0.000996</td>\n",
       "    </tr>\n",
       "    <tr>\n",
       "      <th>2013</th>\n",
       "      <td>2918.963068</td>\n",
       "      <td>28.3</td>\n",
       "      <td>4.4</td>\n",
       "      <td>16.35</td>\n",
       "      <td>1.570942e+06</td>\n",
       "      <td>1094.569436</td>\n",
       "      <td>16.984601</td>\n",
       "      <td>1.569847e+06</td>\n",
       "      <td>0.000697</td>\n",
       "      <td>0.000697</td>\n",
       "      <td>5.255809e+05</td>\n",
       "      <td>1111.554038</td>\n",
       "      <td>1.545770e+06</td>\n",
       "      <td>1.569830e+06</td>\n",
       "      <td>0.000719</td>\n",
       "    </tr>\n",
       "    <tr>\n",
       "      <th>2014</th>\n",
       "      <td>1715.928152</td>\n",
       "      <td>27.1</td>\n",
       "      <td>3.2</td>\n",
       "      <td>15.15</td>\n",
       "      <td>1.569847e+06</td>\n",
       "      <td>1890.914504</td>\n",
       "      <td>519.653629</td>\n",
       "      <td>1.567956e+06</td>\n",
       "      <td>0.001205</td>\n",
       "      <td>0.001205</td>\n",
       "      <td>9.486413e+05</td>\n",
       "      <td>2410.568133</td>\n",
       "      <td>1.544658e+06</td>\n",
       "      <td>1.567436e+06</td>\n",
       "      <td>0.001561</td>\n",
       "    </tr>\n",
       "    <tr>\n",
       "      <th>2015</th>\n",
       "      <td>3071.505587</td>\n",
       "      <td>31.8</td>\n",
       "      <td>4.5</td>\n",
       "      <td>18.15</td>\n",
       "      <td>1.567956e+06</td>\n",
       "      <td>1589.989075</td>\n",
       "      <td>85.658965</td>\n",
       "      <td>1.566366e+06</td>\n",
       "      <td>0.001014</td>\n",
       "      <td>0.001014</td>\n",
       "      <td>8.937499e+05</td>\n",
       "      <td>1675.648040</td>\n",
       "      <td>1.542247e+06</td>\n",
       "      <td>1.566280e+06</td>\n",
       "      <td>0.001086</td>\n",
       "    </tr>\n",
       "    <tr>\n",
       "      <th>2016</th>\n",
       "      <td>2785.651130</td>\n",
       "      <td>29.9</td>\n",
       "      <td>3.7</td>\n",
       "      <td>16.80</td>\n",
       "      <td>1.566366e+06</td>\n",
       "      <td>1762.563140</td>\n",
       "      <td>0.000000</td>\n",
       "      <td>1.564603e+06</td>\n",
       "      <td>0.001125</td>\n",
       "      <td>0.007502</td>\n",
       "      <td>1.023858e+06</td>\n",
       "      <td>1762.563140</td>\n",
       "      <td>1.540572e+06</td>\n",
       "      <td>1.564603e+06</td>\n",
       "      <td>0.001144</td>\n",
       "    </tr>\n",
       "    <tr>\n",
       "      <th>2017</th>\n",
       "      <td>2991.966006</td>\n",
       "      <td>32.9</td>\n",
       "      <td>4.0</td>\n",
       "      <td>18.45</td>\n",
       "      <td>1.564603e+06</td>\n",
       "      <td>4856.270233</td>\n",
       "      <td>5197.157123</td>\n",
       "      <td>1.559747e+06</td>\n",
       "      <td>0.003104</td>\n",
       "      <td>0.020669</td>\n",
       "      <td>1.802045e+06</td>\n",
       "      <td>10053.427356</td>\n",
       "      <td>1.538809e+06</td>\n",
       "      <td>1.554550e+06</td>\n",
       "      <td>0.006533</td>\n",
       "    </tr>\n",
       "    <tr>\n",
       "      <th>2018</th>\n",
       "      <td>2590.643695</td>\n",
       "      <td>30.7</td>\n",
       "      <td>3.2</td>\n",
       "      <td>16.95</td>\n",
       "      <td>1.559747e+06</td>\n",
       "      <td>2982.660464</td>\n",
       "      <td>5298.878807</td>\n",
       "      <td>1.556765e+06</td>\n",
       "      <td>0.001912</td>\n",
       "      <td>0.012695</td>\n",
       "      <td>1.329492e+06</td>\n",
       "      <td>8281.539271</td>\n",
       "      <td>1.528756e+06</td>\n",
       "      <td>1.551466e+06</td>\n",
       "      <td>0.005417</td>\n",
       "    </tr>\n",
       "    <tr>\n",
       "      <th>2019</th>\n",
       "      <td>2512.572650</td>\n",
       "      <td>25.2</td>\n",
       "      <td>4.1</td>\n",
       "      <td>14.65</td>\n",
       "      <td>1.556765e+06</td>\n",
       "      <td>4788.441510</td>\n",
       "      <td>0.000000</td>\n",
       "      <td>1.551976e+06</td>\n",
       "      <td>0.003076</td>\n",
       "      <td>0.020380</td>\n",
       "      <td>1.708142e+06</td>\n",
       "      <td>4788.441510</td>\n",
       "      <td>1.520474e+06</td>\n",
       "      <td>1.551976e+06</td>\n",
       "      <td>0.003149</td>\n",
       "    </tr>\n",
       "    <tr>\n",
       "      <th>2020</th>\n",
       "      <td>4534.975410</td>\n",
       "      <td>19.2</td>\n",
       "      <td>6.9</td>\n",
       "      <td>13.05</td>\n",
       "      <td>1.551976e+06</td>\n",
       "      <td>1006.773460</td>\n",
       "      <td>42.894889</td>\n",
       "      <td>1.550969e+06</td>\n",
       "      <td>0.000649</td>\n",
       "      <td>0.004285</td>\n",
       "      <td>5.600219e+05</td>\n",
       "      <td>1049.668349</td>\n",
       "      <td>1.515686e+06</td>\n",
       "      <td>1.550926e+06</td>\n",
       "      <td>0.000693</td>\n",
       "    </tr>\n",
       "  </tbody>\n",
       "</table>\n",
       "</div>"
      ],
      "text/plain": [
       "      PRCP estimate  TMAX  TMIN   TAVG  area_tree_cover_jan1  \\\n",
       "YEAR                                                           \n",
       "2001    1203.100000  29.0   2.6  15.80          1.603821e+06   \n",
       "2002    1035.135989  31.0   2.3  16.65          1.602618e+06   \n",
       "2003    1192.479042  33.2   3.4  18.30          1.601319e+06   \n",
       "2004    1484.433060  34.7   3.4  19.05          1.600522e+06   \n",
       "2005    1418.691617  31.2   5.3  18.25          1.589667e+06   \n",
       "2006    2056.948324  28.9   4.4  16.65          1.585760e+06   \n",
       "2007    3786.482808  32.1   5.4  18.75          1.584708e+06   \n",
       "2008    2979.971671  28.1   2.7  15.40          1.582491e+06   \n",
       "2009    2725.775140  32.0   4.0  18.00          1.581213e+06   \n",
       "2010    2464.014493  33.1   4.1  18.60          1.577087e+06   \n",
       "2011    3484.750720  23.8   4.0  13.90          1.573841e+06   \n",
       "2012    2999.361429  28.3   2.6  15.45          1.572458e+06   \n",
       "2013    2918.963068  28.3   4.4  16.35          1.570942e+06   \n",
       "2014    1715.928152  27.1   3.2  15.15          1.569847e+06   \n",
       "2015    3071.505587  31.8   4.5  18.15          1.567956e+06   \n",
       "2016    2785.651130  29.9   3.7  16.80          1.566366e+06   \n",
       "2017    2991.966006  32.9   4.0  18.45          1.564603e+06   \n",
       "2018    2590.643695  30.7   3.2  16.95          1.559747e+06   \n",
       "2019    2512.572650  25.2   4.1  14.65          1.556765e+06   \n",
       "2020    4534.975410  19.2   6.9  13.05          1.551976e+06   \n",
       "\n",
       "      area_tree_cover_loss_Ha  area_burn_Ha  area_tree_cover_dec31  \\\n",
       "YEAR                                                                 \n",
       "2001              1203.934039    145.388563           1.602618e+06   \n",
       "2002              1298.841284     25.373653           1.601319e+06   \n",
       "2003               796.634859    100.980558           1.600522e+06   \n",
       "2004             10855.552080  15065.489648           1.589667e+06   \n",
       "2005              3906.168671     33.792675           1.585760e+06   \n",
       "2006              1052.593717      0.000000           1.584708e+06   \n",
       "2007              2216.374182      0.000000           1.582491e+06   \n",
       "2008              1278.326130      0.000000           1.581213e+06   \n",
       "2009              4125.643557   5091.424460           1.577087e+06   \n",
       "2010              3246.653750   4683.797245           1.573841e+06   \n",
       "2011              1382.967631      0.000000           1.572458e+06   \n",
       "2012              1516.291746     25.256939           1.570942e+06   \n",
       "2013              1094.569436     16.984601           1.569847e+06   \n",
       "2014              1890.914504    519.653629           1.567956e+06   \n",
       "2015              1589.989075     85.658965           1.566366e+06   \n",
       "2016              1762.563140      0.000000           1.564603e+06   \n",
       "2017              4856.270233   5197.157123           1.559747e+06   \n",
       "2018              2982.660464   5298.878807           1.556765e+06   \n",
       "2019              4788.441510      0.000000           1.551976e+06   \n",
       "2020              1006.773460     42.894889           1.550969e+06   \n",
       "\n",
       "      percentage_tree_cover_loss  \\\n",
       "YEAR                               \n",
       "2001                    0.000751   \n",
       "2002                    0.000810   \n",
       "2003                    0.000497   \n",
       "2004                    0.006783   \n",
       "2005                    0.002457   \n",
       "2006                    0.000664   \n",
       "2007                    0.001399   \n",
       "2008                    0.000808   \n",
       "2009                    0.002609   \n",
       "2010                    0.002059   \n",
       "2011                    0.000879   \n",
       "2012                    0.000964   \n",
       "2013                    0.000697   \n",
       "2014                    0.001205   \n",
       "2015                    0.001014   \n",
       "2016                    0.001125   \n",
       "2017                    0.003104   \n",
       "2018                    0.001912   \n",
       "2019                    0.003076   \n",
       "2020                    0.000649   \n",
       "\n",
       "      percentage_tree_cover_loss_over_logging_land  co2_emission_Mg  \\\n",
       "YEAR                                                                  \n",
       "2001                                      0.000751     5.147169e+05   \n",
       "2002                                      0.000810     4.873691e+05   \n",
       "2003                                      0.000497     3.320122e+05   \n",
       "2004                                      0.006783     2.194606e+06   \n",
       "2005                                      0.002457     1.283370e+06   \n",
       "2006                                      0.000664     4.392463e+05   \n",
       "2007                                      0.001399     8.476379e+05   \n",
       "2008                                      0.000808     5.850874e+05   \n",
       "2009                                      0.002609     1.211515e+06   \n",
       "2010                                      0.002059     1.066041e+06   \n",
       "2011                                      0.000879     4.730757e+05   \n",
       "2012                                      0.000964     6.945718e+05   \n",
       "2013                                      0.000697     5.255809e+05   \n",
       "2014                                      0.001205     9.486413e+05   \n",
       "2015                                      0.001014     8.937499e+05   \n",
       "2016                                      0.007502     1.023858e+06   \n",
       "2017                                      0.020669     1.802045e+06   \n",
       "2018                                      0.012695     1.329492e+06   \n",
       "2019                                      0.020380     1.708142e+06   \n",
       "2020                                      0.004285     5.600219e+05   \n",
       "\n",
       "      cumulative_loss_area  true_area_tree_cover_jan1  \\\n",
       "YEAR                                                    \n",
       "2001           1349.322602               1.603821e+06   \n",
       "2002           1324.214936               1.602472e+06   \n",
       "2003            897.615416               1.601147e+06   \n",
       "2004          25921.041728               1.600250e+06   \n",
       "2005           3939.961346               1.574329e+06   \n",
       "2006           1052.593717               1.570389e+06   \n",
       "2007           2216.374182               1.569336e+06   \n",
       "2008           1278.326130               1.567120e+06   \n",
       "2009           9217.068017               1.565842e+06   \n",
       "2010           7930.450995               1.556624e+06   \n",
       "2011           1382.967631               1.548694e+06   \n",
       "2012           1541.548685               1.547311e+06   \n",
       "2013           1111.554038               1.545770e+06   \n",
       "2014           2410.568133               1.544658e+06   \n",
       "2015           1675.648040               1.542247e+06   \n",
       "2016           1762.563140               1.540572e+06   \n",
       "2017          10053.427356               1.538809e+06   \n",
       "2018           8281.539271               1.528756e+06   \n",
       "2019           4788.441510               1.520474e+06   \n",
       "2020           1049.668349               1.515686e+06   \n",
       "\n",
       "      true_area_tree_cover_dec31  true_percentage_tree_cover_loss  \n",
       "YEAR                                                               \n",
       "2001                1.602472e+06                         0.000841  \n",
       "2002                1.601293e+06                         0.000826  \n",
       "2003                1.600421e+06                         0.000561  \n",
       "2004                1.574601e+06                         0.016198  \n",
       "2005                1.585727e+06                         0.002503  \n",
       "2006                1.584708e+06                         0.000670  \n",
       "2007                1.582491e+06                         0.001412  \n",
       "2008                1.581213e+06                         0.000816  \n",
       "2009                1.571996e+06                         0.005886  \n",
       "2010                1.569157e+06                         0.005095  \n",
       "2011                1.572458e+06                         0.000893  \n",
       "2012                1.570916e+06                         0.000996  \n",
       "2013                1.569830e+06                         0.000719  \n",
       "2014                1.567436e+06                         0.001561  \n",
       "2015                1.566280e+06                         0.001086  \n",
       "2016                1.564603e+06                         0.001144  \n",
       "2017                1.554550e+06                         0.006533  \n",
       "2018                1.551466e+06                         0.005417  \n",
       "2019                1.551976e+06                         0.003149  \n",
       "2020                1.550926e+06                         0.000693  "
      ]
     },
     "execution_count": 4,
     "metadata": {},
     "output_type": "execute_result"
    }
   ],
   "source": [
    "model_data"
   ]
  },
  {
   "cell_type": "code",
   "execution_count": 5,
   "id": "f91249d7-7bf6-4d98-9af3-4727e0be64ef",
   "metadata": {},
   "outputs": [],
   "source": [
    "# Will use true percentage of deforestation (including logging and fires)"
   ]
  },
  {
   "cell_type": "markdown",
   "id": "0c44ba15-4b1c-4279-ba6f-b03a95106d24",
   "metadata": {},
   "source": [
    "## Setting up Training and Testing Data"
   ]
  },
  {
   "cell_type": "code",
   "execution_count": 6,
   "id": "b064b68e-da3a-4a04-b3b4-697b373a7e18",
   "metadata": {},
   "outputs": [],
   "source": [
    "X = model_data[['PRCP estimate', 'TMAX', 'TAVG', 'co2_emission_Mg', 'area_tree_cover_loss_Ha']]\n",
    "y = model_data['true_percentage_tree_cover_loss']"
   ]
  },
  {
   "cell_type": "code",
   "execution_count": 7,
   "id": "eef731cc-8b01-4239-8edd-b85439d324d2",
   "metadata": {},
   "outputs": [],
   "source": [
    "X_train, X_test, y_train, y_test = train_test_split(X, y, random_state = 42)"
   ]
  },
  {
   "cell_type": "code",
   "execution_count": 8,
   "id": "2e59cd6b-2821-4be4-9336-9c874e40d1e3",
   "metadata": {},
   "outputs": [],
   "source": [
    "sc = StandardScaler()\n",
    "X_train = sc.fit_transform(X_train)\n",
    "X_test = sc.fit_transform(X_test)"
   ]
  },
  {
   "cell_type": "markdown",
   "id": "5c7ae051-4673-436f-9559-761c14812313",
   "metadata": {},
   "source": [
    "## Baseline Score"
   ]
  },
  {
   "cell_type": "code",
   "execution_count": 9,
   "id": "384a692e-350b-4c71-80b8-b77dee11b438",
   "metadata": {},
   "outputs": [],
   "source": [
    "baseline = np.mean(model_data['true_percentage_tree_cover_loss'])"
   ]
  },
  {
   "cell_type": "code",
   "execution_count": 10,
   "id": "45572f9c-73c8-44e4-9254-fabac860f10b",
   "metadata": {},
   "outputs": [
    {
     "data": {
      "text/plain": [
       "0.002850005924092065"
      ]
     },
     "execution_count": 10,
     "metadata": {},
     "output_type": "execute_result"
    }
   ],
   "source": [
    "baseline"
   ]
  },
  {
   "cell_type": "code",
   "execution_count": 11,
   "id": "2078174c-e72c-4686-838e-ed4537d7ef4a",
   "metadata": {},
   "outputs": [
    {
     "data": {
      "text/plain": [
       "0.003953220689568387"
      ]
     },
     "execution_count": 11,
     "metadata": {},
     "output_type": "execute_result"
    }
   ],
   "source": [
    "(metrics.mean_squared_error(y_train, [baseline] * len(y_train))**.5)"
   ]
  },
  {
   "cell_type": "code",
   "execution_count": 12,
   "id": "a3375c70-139d-416b-a6ca-9fce4ab28fec",
   "metadata": {},
   "outputs": [
    {
     "data": {
      "text/plain": [
       "0.002317315907247868"
      ]
     },
     "execution_count": 12,
     "metadata": {},
     "output_type": "execute_result"
    }
   ],
   "source": [
    "(metrics.mean_squared_error(y_test, [baseline] * len(y_test))**.5)"
   ]
  },
  {
   "cell_type": "markdown",
   "id": "bed4e85f-47b8-4877-a72c-e7b0be68ee1a",
   "metadata": {},
   "source": [
    "## Linear Regression"
   ]
  },
  {
   "cell_type": "code",
   "execution_count": 13,
   "id": "e77c122a-e7aa-4d8d-9bfe-502ca971386c",
   "metadata": {},
   "outputs": [],
   "source": [
    "lr = LinearRegression()"
   ]
  },
  {
   "cell_type": "code",
   "execution_count": 14,
   "id": "55759840-da9b-42a4-a901-af3d1ccd0f8c",
   "metadata": {},
   "outputs": [
    {
     "data": {
      "text/plain": [
       "LinearRegression()"
      ]
     },
     "execution_count": 14,
     "metadata": {},
     "output_type": "execute_result"
    }
   ],
   "source": [
    "lr.fit(X_train, y_train)"
   ]
  },
  {
   "cell_type": "code",
   "execution_count": 15,
   "id": "dcf8b8ca-9b8e-4dc6-a997-b119921af577",
   "metadata": {},
   "outputs": [
    {
     "data": {
      "text/plain": [
       "0.9582602624139873"
      ]
     },
     "execution_count": 15,
     "metadata": {},
     "output_type": "execute_result"
    }
   ],
   "source": [
    "lr.score(X_train,y_train)"
   ]
  },
  {
   "cell_type": "code",
   "execution_count": 16,
   "id": "c9e6e376-e4ae-425f-9f4f-ae5b1f1251d9",
   "metadata": {},
   "outputs": [
    {
     "data": {
      "text/plain": [
       "-0.31409807497253883"
      ]
     },
     "execution_count": 16,
     "metadata": {},
     "output_type": "execute_result"
    }
   ],
   "source": [
    "lr.score(X_test, y_test)"
   ]
  },
  {
   "cell_type": "code",
   "execution_count": 17,
   "id": "5de3b148-9f9e-424f-8138-16dc16c3cd90",
   "metadata": {},
   "outputs": [
    {
     "data": {
      "text/plain": [
       "0.0008076529720393297"
      ]
     },
     "execution_count": 17,
     "metadata": {},
     "output_type": "execute_result"
    }
   ],
   "source": [
    "(metrics.mean_squared_error(y_train, lr.predict(X_train)))**.5"
   ]
  },
  {
   "cell_type": "code",
   "execution_count": 18,
   "id": "642a61df-22e7-41fc-894b-4704974ee351",
   "metadata": {},
   "outputs": [
    {
     "data": {
      "text/plain": [
       "0.0026562549834319503"
      ]
     },
     "execution_count": 18,
     "metadata": {},
     "output_type": "execute_result"
    }
   ],
   "source": [
    "(metrics.mean_squared_error(y_test, lr.predict(X_test)))**.5"
   ]
  },
  {
   "cell_type": "code",
   "execution_count": 19,
   "id": "70060277-cea7-49e7-8487-b414a6a049d1",
   "metadata": {},
   "outputs": [
    {
     "data": {
      "text/plain": [
       "0.9320173551141517"
      ]
     },
     "execution_count": 19,
     "metadata": {},
     "output_type": "execute_result"
    }
   ],
   "source": [
    "(metrics.mean_squared_error(y_test, lr.predict(X_test)))**.5 / baseline"
   ]
  },
  {
   "cell_type": "markdown",
   "id": "d7668b9a-bf0b-4082-9ec1-5589636d4c30",
   "metadata": {},
   "source": [
    "## Random Forest / Extra Trees"
   ]
  },
  {
   "cell_type": "code",
   "execution_count": 20,
   "id": "10a819a6-2570-45b4-8e5d-2dc565a1cc19",
   "metadata": {},
   "outputs": [],
   "source": [
    "rf = RandomForestRegressor(n_estimators=100)\n",
    "et = ExtraTreesRegressor(n_estimators=200)"
   ]
  },
  {
   "cell_type": "code",
   "execution_count": 21,
   "id": "4e097c47-9db6-4f53-ab03-a8538e741be0",
   "metadata": {},
   "outputs": [
    {
     "data": {
      "text/plain": [
       "RandomForestRegressor()"
      ]
     },
     "execution_count": 21,
     "metadata": {},
     "output_type": "execute_result"
    }
   ],
   "source": [
    "rf.fit(X_train, y_train)"
   ]
  },
  {
   "cell_type": "code",
   "execution_count": 22,
   "id": "d3389f57-0d66-4824-b7b2-a498af91f4f3",
   "metadata": {},
   "outputs": [
    {
     "data": {
      "text/plain": [
       "0.9261220222122238"
      ]
     },
     "execution_count": 22,
     "metadata": {},
     "output_type": "execute_result"
    }
   ],
   "source": [
    "rf.score(X_train, y_train)"
   ]
  },
  {
   "cell_type": "code",
   "execution_count": 23,
   "id": "14de631b-5692-4a07-879f-edebe158f7dc",
   "metadata": {},
   "outputs": [
    {
     "data": {
      "text/plain": [
       "0.5323330069445662"
      ]
     },
     "execution_count": 23,
     "metadata": {},
     "output_type": "execute_result"
    }
   ],
   "source": [
    "rf.score(X_test, y_test)"
   ]
  },
  {
   "cell_type": "code",
   "execution_count": 24,
   "id": "9ed1d7ca-e7a5-4087-8b5e-2aade9fac3e0",
   "metadata": {},
   "outputs": [
    {
     "data": {
      "text/plain": [
       "0.001074502519104399"
      ]
     },
     "execution_count": 24,
     "metadata": {},
     "output_type": "execute_result"
    }
   ],
   "source": [
    "(metrics.mean_squared_error(y_train, rf.predict(X_train)))**.5"
   ]
  },
  {
   "cell_type": "code",
   "execution_count": 25,
   "id": "14320daf-ca9e-4b8b-9cf8-4895e3b4f774",
   "metadata": {},
   "outputs": [
    {
     "data": {
      "text/plain": [
       "0.0015846167137415323"
      ]
     },
     "execution_count": 25,
     "metadata": {},
     "output_type": "execute_result"
    }
   ],
   "source": [
    "(metrics.mean_squared_error(y_test, rf.predict(X_test)))**.5"
   ]
  },
  {
   "cell_type": "code",
   "execution_count": 26,
   "id": "6dcd9ae0-2d0a-4fc5-aa96-607f45c78179",
   "metadata": {},
   "outputs": [
    {
     "data": {
      "text/plain": [
       "0.5560047087433154"
      ]
     },
     "execution_count": 26,
     "metadata": {},
     "output_type": "execute_result"
    }
   ],
   "source": [
    "(metrics.mean_squared_error(y_test, rf.predict(X_test)))**.5 / baseline"
   ]
  },
  {
   "cell_type": "code",
   "execution_count": 27,
   "id": "d4707c82-9b31-46b2-82ca-343e2c3c327b",
   "metadata": {},
   "outputs": [
    {
     "data": {
      "text/plain": [
       "ExtraTreesRegressor(n_estimators=200)"
      ]
     },
     "execution_count": 27,
     "metadata": {},
     "output_type": "execute_result"
    }
   ],
   "source": [
    "et.fit(X_train, y_train)"
   ]
  },
  {
   "cell_type": "code",
   "execution_count": 28,
   "id": "0211c606-db7a-4bb2-8a7e-2afb96ea315a",
   "metadata": {},
   "outputs": [
    {
     "data": {
      "text/plain": [
       "1.0"
      ]
     },
     "execution_count": 28,
     "metadata": {},
     "output_type": "execute_result"
    }
   ],
   "source": [
    "et.score(X_train, y_train)"
   ]
  },
  {
   "cell_type": "code",
   "execution_count": 29,
   "id": "e3af3b9c-f62a-4bbe-bb2d-b571b67ede8d",
   "metadata": {},
   "outputs": [
    {
     "data": {
      "text/plain": [
       "0.6301501676926154"
      ]
     },
     "execution_count": 29,
     "metadata": {},
     "output_type": "execute_result"
    }
   ],
   "source": [
    "et.score(X_test, y_test)"
   ]
  },
  {
   "cell_type": "code",
   "execution_count": 30,
   "id": "30590bc7-9759-46e9-ada9-17b4dfb3d4c4",
   "metadata": {},
   "outputs": [
    {
     "data": {
      "text/plain": [
       "1.998179995683074e-17"
      ]
     },
     "execution_count": 30,
     "metadata": {},
     "output_type": "execute_result"
    }
   ],
   "source": [
    "(metrics.mean_squared_error(y_train, et.predict(X_train)))**.5"
   ]
  },
  {
   "cell_type": "code",
   "execution_count": 31,
   "id": "9b70b2a8-63bc-4fe5-9208-c5273ff21c54",
   "metadata": {},
   "outputs": [
    {
     "data": {
      "text/plain": [
       "0.001409186862455217"
      ]
     },
     "execution_count": 31,
     "metadata": {},
     "output_type": "execute_result"
    }
   ],
   "source": [
    "(metrics.mean_squared_error(y_test, et.predict(X_test)))**.5"
   ]
  },
  {
   "cell_type": "code",
   "execution_count": 32,
   "id": "cf3b61e9-3362-4b47-851f-e45f1520c069",
   "metadata": {},
   "outputs": [
    {
     "data": {
      "text/plain": [
       "0.4944505029069881"
      ]
     },
     "execution_count": 32,
     "metadata": {},
     "output_type": "execute_result"
    }
   ],
   "source": [
    "(metrics.mean_squared_error(y_test, et.predict(X_test)))**.5 / baseline"
   ]
  },
  {
   "cell_type": "code",
   "execution_count": 33,
   "id": "532e263f-bd85-426e-91bc-32449278e804",
   "metadata": {},
   "outputs": [
    {
     "data": {
      "image/png": "[encoded data removed]",
      "text/plain": [
       "<Figure size 432x288 with 1 Axes>"
      ]
     },
     "metadata": {
      "needs_background": "light"
     },
     "output_type": "display_data"
    }
   ],
   "source": [
    "plt.barh(list(X.columns), rf.feature_importances_);"
   ]
  },
  {
   "cell_type": "code",
   "execution_count": 34,
   "id": "af679184-4063-480e-ba0d-a1b287007447",
   "metadata": {},
   "outputs": [
    {
     "data": {
      "image/png": "[encoded data removed]",
      "text/plain": [
       "<Figure size 432x288 with 1 Axes>"
      ]
     },
     "metadata": {
      "needs_background": "light"
     },
     "output_type": "display_data"
    }
   ],
   "source": [
    "plt.barh(list(X.columns), et.feature_importances_);"
   ]
  },
  {
   "cell_type": "markdown",
   "id": "b8c8debc-12bc-4772-8324-871fed6a0f87",
   "metadata": {},
   "source": [
    "## ADA Boosting"
   ]
  },
  {
   "cell_type": "code",
   "execution_count": 35,
   "id": "fd24369e-ea2b-4d80-aa35-3410b7fd0d9f",
   "metadata": {},
   "outputs": [
    {
     "data": {
      "text/plain": [
       "AdaBoostRegressor()"
      ]
     },
     "execution_count": 35,
     "metadata": {},
     "output_type": "execute_result"
    }
   ],
   "source": [
    "ad = AdaBoostRegressor()\n",
    "ad.fit(X_train,y_train)"
   ]
  },
  {
   "cell_type": "code",
   "execution_count": 36,
   "id": "fea6d777-172d-45ba-950a-3386841bbc30",
   "metadata": {},
   "outputs": [
    {
     "data": {
      "text/plain": [
       "0.996966718136966"
      ]
     },
     "execution_count": 36,
     "metadata": {},
     "output_type": "execute_result"
    }
   ],
   "source": [
    "ad.score(X_train, y_train)"
   ]
  },
  {
   "cell_type": "code",
   "execution_count": 37,
   "id": "7916eacc-bda5-4c85-ab81-6fd2a5498b12",
   "metadata": {},
   "outputs": [
    {
     "data": {
      "text/plain": [
       "0.6407164046100807"
      ]
     },
     "execution_count": 37,
     "metadata": {},
     "output_type": "execute_result"
    }
   ],
   "source": [
    "ad.score(X_test, y_test)"
   ]
  },
  {
   "cell_type": "code",
   "execution_count": 38,
   "id": "957b70aa-0bf9-4877-9ddd-6211b36b87cb",
   "metadata": {},
   "outputs": [
    {
     "data": {
      "text/plain": [
       "0.07639423033666327"
      ]
     },
     "execution_count": 38,
     "metadata": {},
     "output_type": "execute_result"
    }
   ],
   "source": [
    "(metrics.mean_squared_error(y_train, ad.predict(X_train)))**.5 / baseline"
   ]
  },
  {
   "cell_type": "code",
   "execution_count": 39,
   "id": "91d3a4bb-545a-4d86-9354-0b2899d549b0",
   "metadata": {},
   "outputs": [
    {
     "data": {
      "text/plain": [
       "0.4873363474181231"
      ]
     },
     "execution_count": 39,
     "metadata": {},
     "output_type": "execute_result"
    }
   ],
   "source": [
    "(metrics.mean_squared_error(y_test, ad.predict(X_test)))**.5 / baseline"
   ]
  },
  {
   "cell_type": "markdown",
   "id": "5bf91bb8-85f0-4411-be24-44d710dd4247",
   "metadata": {},
   "source": [
    "## Bagging Regressor"
   ]
  },
  {
   "cell_type": "code",
   "execution_count": 40,
   "id": "15f76f03-397c-48ae-836b-02d95b1ee831",
   "metadata": {},
   "outputs": [
    {
     "data": {
      "text/plain": [
       "BaggingRegressor(random_state=42)"
      ]
     },
     "execution_count": 40,
     "metadata": {},
     "output_type": "execute_result"
    }
   ],
   "source": [
    "bag = BaggingRegressor(random_state=42)\n",
    "bag.fit(X_train, y_train)"
   ]
  },
  {
   "cell_type": "code",
   "execution_count": 41,
   "id": "4a170f1f-e8b7-4a81-9442-f20033ac764b",
   "metadata": {},
   "outputs": [
    {
     "data": {
      "text/plain": [
       "0.9073588813601675"
      ]
     },
     "execution_count": 41,
     "metadata": {},
     "output_type": "execute_result"
    }
   ],
   "source": [
    "bag.score(X_train, y_train)"
   ]
  },
  {
   "cell_type": "code",
   "execution_count": 42,
   "id": "aad09a1a-4aee-4f0e-a9a0-273cbbad8913",
   "metadata": {},
   "outputs": [
    {
     "data": {
      "text/plain": [
       "0.47933407688641105"
      ]
     },
     "execution_count": 42,
     "metadata": {},
     "output_type": "execute_result"
    }
   ],
   "source": [
    "bag.score(X_test, y_test)"
   ]
  },
  {
   "cell_type": "code",
   "execution_count": 49,
   "id": "1d3a7906-0617-44a2-be8e-ddc3ede41991",
   "metadata": {},
   "outputs": [
    {
     "data": {
      "text/plain": [
       "0.0012032388159524618"
      ]
     },
     "execution_count": 49,
     "metadata": {},
     "output_type": "execute_result"
    }
   ],
   "source": [
    "(metrics.mean_squared_error(y_train, bag.predict(X_train)))**.5"
   ]
  },
  {
   "cell_type": "code",
   "execution_count": 50,
   "id": "2c19bace-ab77-4c1e-8106-ff46a075034e",
   "metadata": {},
   "outputs": [
    {
     "data": {
      "text/plain": [
       "0.0016719968308847133"
      ]
     },
     "execution_count": 50,
     "metadata": {},
     "output_type": "execute_result"
    }
   ],
   "source": [
    "(metrics.mean_squared_error(y_test, bag.predict(X_test)))**.5"
   ]
  },
  {
   "cell_type": "code",
   "execution_count": 43,
   "id": "a4e9580d-a22a-4db2-978a-dc8b5ded8dd3",
   "metadata": {},
   "outputs": [
    {
     "data": {
      "text/plain": [
       "0.4221881806564248"
      ]
     },
     "execution_count": 43,
     "metadata": {},
     "output_type": "execute_result"
    }
   ],
   "source": [
    "(metrics.mean_squared_error(y_train, bag.predict(X_train)))**.5 / baseline"
   ]
  },
  {
   "cell_type": "code",
   "execution_count": 44,
   "id": "07d1f2f2-b8cb-4f58-9ac5-84798924c515",
   "metadata": {},
   "outputs": [
    {
     "data": {
      "text/plain": [
       "0.5866643352390105"
      ]
     },
     "execution_count": 44,
     "metadata": {},
     "output_type": "execute_result"
    }
   ],
   "source": [
    "(metrics.mean_squared_error(y_test, bag.predict(X_test)))**.5 / baseline"
   ]
  },
  {
   "cell_type": "markdown",
   "id": "51e56540-d0cd-4a5c-adc2-61735011617b",
   "metadata": {},
   "source": [
    "## Neural Net Deep Learning Model"
   ]
  },
  {
   "cell_type": "code",
   "execution_count": 45,
   "id": "b4320d39-4322-4fdf-9a98-ce24fdc90b3f",
   "metadata": {},
   "outputs": [],
   "source": [
    "# construct network\n",
    "model = Sequential()\n",
    "\n",
    "# first layer\n",
    "model.add(Dense(24,\n",
    "               input_shape=(X_train.shape[1],),\n",
    "               activation='relu'))\n",
    "\n",
    "# second layer (Hidden layer)\n",
    "model.add(Dense(24, activation='relu'))\n",
    "\n",
    "# output layer\n",
    "model.add(Dense(1))"
   ]
  },
  {
   "cell_type": "code",
   "execution_count": 46,
   "id": "61c9ba4c-1c48-48da-b5e6-c718d7b47ada",
   "metadata": {},
   "outputs": [],
   "source": [
    "model.compile(loss='mse', optimizer='adam')"
   ]
  },
  {
   "cell_type": "code",
   "execution_count": 47,
   "id": "5ee88aee-39d5-4ef9-9be0-ddc42fc7880c",
   "metadata": {},
   "outputs": [
    {
     "name": "stdout",
     "output_type": "stream",
     "text": [
      "Epoch 1/100\n",
      "1/1 [==============================] - 0s 361ms/step - loss: 0.0514 - val_loss: 0.0636\n",
      "Epoch 2/100\n",
      "1/1 [==============================] - 0s 14ms/step - loss: 0.0425 - val_loss: 0.0584\n",
      "Epoch 3/100\n",
      "1/1 [==============================] - 0s 14ms/step - loss: 0.0346 - val_loss: 0.0535\n",
      "Epoch 4/100\n",
      "1/1 [==============================] - 0s 15ms/step - loss: 0.0280 - val_loss: 0.0487\n",
      "Epoch 5/100\n",
      "1/1 [==============================] - 0s 15ms/step - loss: 0.0223 - val_loss: 0.0440\n",
      "Epoch 6/100\n",
      "1/1 [==============================] - 0s 14ms/step - loss: 0.0176 - val_loss: 0.0397\n",
      "Epoch 7/100\n",
      "1/1 [==============================] - 0s 15ms/step - loss: 0.0138 - val_loss: 0.0355\n",
      "Epoch 8/100\n",
      "1/1 [==============================] - 0s 15ms/step - loss: 0.0108 - val_loss: 0.0318\n",
      "Epoch 9/100\n",
      "1/1 [==============================] - 0s 14ms/step - loss: 0.0085 - val_loss: 0.0285\n",
      "Epoch 10/100\n",
      "1/1 [==============================] - 0s 14ms/step - loss: 0.0068 - val_loss: 0.0257\n",
      "Epoch 11/100\n",
      "1/1 [==============================] - 0s 14ms/step - loss: 0.0056 - val_loss: 0.0234\n",
      "Epoch 12/100\n",
      "1/1 [==============================] - 0s 14ms/step - loss: 0.0047 - val_loss: 0.0214\n",
      "Epoch 13/100\n",
      "1/1 [==============================] - 0s 14ms/step - loss: 0.0040 - val_loss: 0.0197\n",
      "Epoch 14/100\n",
      "1/1 [==============================] - 0s 15ms/step - loss: 0.0035 - val_loss: 0.0183\n",
      "Epoch 15/100\n",
      "1/1 [==============================] - 0s 14ms/step - loss: 0.0031 - val_loss: 0.0171\n",
      "Epoch 16/100\n",
      "1/1 [==============================] - 0s 14ms/step - loss: 0.0029 - val_loss: 0.0162\n",
      "Epoch 17/100\n",
      "1/1 [==============================] - 0s 14ms/step - loss: 0.0026 - val_loss: 0.0154\n",
      "Epoch 18/100\n",
      "1/1 [==============================] - 0s 15ms/step - loss: 0.0024 - val_loss: 0.0149\n",
      "Epoch 19/100\n",
      "1/1 [==============================] - 0s 14ms/step - loss: 0.0023 - val_loss: 0.0144\n",
      "Epoch 20/100\n",
      "1/1 [==============================] - 0s 15ms/step - loss: 0.0021 - val_loss: 0.0142\n",
      "Epoch 21/100\n",
      "1/1 [==============================] - 0s 15ms/step - loss: 0.0020 - val_loss: 0.0140\n",
      "Epoch 22/100\n",
      "1/1 [==============================] - 0s 15ms/step - loss: 0.0019 - val_loss: 0.0139\n",
      "Epoch 23/100\n",
      "1/1 [==============================] - ETA: 0s - loss: 0.001 - 0s 15ms/step - loss: 0.0017 - val_loss: 0.0139\n",
      "Epoch 24/100\n",
      "1/1 [==============================] - 0s 15ms/step - loss: 0.0016 - val_loss: 0.0140\n",
      "Epoch 25/100\n",
      "1/1 [==============================] - 0s 14ms/step - loss: 0.0015 - val_loss: 0.0141\n",
      "Epoch 26/100\n",
      "1/1 [==============================] - 0s 14ms/step - loss: 0.0014 - val_loss: 0.0142\n",
      "Epoch 27/100\n",
      "1/1 [==============================] - 0s 14ms/step - loss: 0.0013 - val_loss: 0.0144\n",
      "Epoch 28/100\n",
      "1/1 [==============================] - 0s 15ms/step - loss: 0.0013 - val_loss: 0.0145\n",
      "Epoch 29/100\n",
      "1/1 [==============================] - 0s 14ms/step - loss: 0.0012 - val_loss: 0.0146\n",
      "Epoch 30/100\n",
      "1/1 [==============================] - 0s 14ms/step - loss: 0.0011 - val_loss: 0.0147\n",
      "Epoch 31/100\n",
      "1/1 [==============================] - 0s 14ms/step - loss: 0.0011 - val_loss: 0.0147\n",
      "Epoch 32/100\n",
      "1/1 [==============================] - 0s 14ms/step - loss: 0.0010 - val_loss: 0.0147\n",
      "Epoch 33/100\n",
      "1/1 [==============================] - 0s 14ms/step - loss: 9.4364e-04 - val_loss: 0.0147\n",
      "Epoch 34/100\n",
      "1/1 [==============================] - 0s 15ms/step - loss: 8.7364e-04 - val_loss: 0.0146\n",
      "Epoch 35/100\n",
      "1/1 [==============================] - 0s 15ms/step - loss: 8.0159e-04 - val_loss: 0.0146\n",
      "Epoch 36/100\n",
      "1/1 [==============================] - 0s 14ms/step - loss: 7.2808e-04 - val_loss: 0.0145\n",
      "Epoch 37/100\n",
      "1/1 [==============================] - 0s 14ms/step - loss: 6.5574e-04 - val_loss: 0.0145\n",
      "Epoch 38/100\n",
      "1/1 [==============================] - 0s 14ms/step - loss: 5.8241e-04 - val_loss: 0.0145\n",
      "Epoch 39/100\n",
      "1/1 [==============================] - 0s 14ms/step - loss: 5.1075e-04 - val_loss: 0.0145\n",
      "Epoch 40/100\n",
      "1/1 [==============================] - 0s 14ms/step - loss: 4.4380e-04 - val_loss: 0.0145\n",
      "Epoch 41/100\n",
      "1/1 [==============================] - 0s 14ms/step - loss: 3.8501e-04 - val_loss: 0.0145\n",
      "Epoch 42/100\n",
      "1/1 [==============================] - 0s 14ms/step - loss: 3.3561e-04 - val_loss: 0.0146\n",
      "Epoch 43/100\n",
      "1/1 [==============================] - 0s 14ms/step - loss: 2.9681e-04 - val_loss: 0.0147\n",
      "Epoch 44/100\n",
      "1/1 [==============================] - 0s 14ms/step - loss: 2.6882e-04 - val_loss: 0.0148\n",
      "Epoch 45/100\n",
      "1/1 [==============================] - 0s 14ms/step - loss: 2.5043e-04 - val_loss: 0.0148\n",
      "Epoch 46/100\n",
      "1/1 [==============================] - 0s 15ms/step - loss: 2.3997e-04 - val_loss: 0.0149\n",
      "Epoch 47/100\n",
      "1/1 [==============================] - 0s 14ms/step - loss: 2.3507e-04 - val_loss: 0.0150\n",
      "Epoch 48/100\n",
      "1/1 [==============================] - 0s 14ms/step - loss: 2.3316e-04 - val_loss: 0.0150\n",
      "Epoch 49/100\n",
      "1/1 [==============================] - 0s 14ms/step - loss: 2.3184e-04 - val_loss: 0.0150\n",
      "Epoch 50/100\n",
      "1/1 [==============================] - 0s 14ms/step - loss: 2.2924e-04 - val_loss: 0.0150\n",
      "Epoch 51/100\n",
      "1/1 [==============================] - 0s 14ms/step - loss: 2.2411e-04 - val_loss: 0.0150\n",
      "Epoch 52/100\n",
      "1/1 [==============================] - 0s 14ms/step - loss: 2.1589e-04 - val_loss: 0.0149\n",
      "Epoch 53/100\n",
      "1/1 [==============================] - 0s 14ms/step - loss: 2.0463e-04 - val_loss: 0.0148\n",
      "Epoch 54/100\n",
      "1/1 [==============================] - 0s 14ms/step - loss: 1.9086e-04 - val_loss: 0.0147\n",
      "Epoch 55/100\n",
      "1/1 [==============================] - 0s 14ms/step - loss: 1.7544e-04 - val_loss: 0.0146\n",
      "Epoch 56/100\n",
      "1/1 [==============================] - 0s 14ms/step - loss: 1.5934e-04 - val_loss: 0.0144\n",
      "Epoch 57/100\n",
      "1/1 [==============================] - 0s 14ms/step - loss: 1.4347e-04 - val_loss: 0.0143\n",
      "Epoch 58/100\n",
      "1/1 [==============================] - 0s 14ms/step - loss: 1.2866e-04 - val_loss: 0.0142\n",
      "Epoch 59/100\n",
      "1/1 [==============================] - 0s 14ms/step - loss: 1.1578e-04 - val_loss: 0.0141\n",
      "Epoch 60/100\n",
      "1/1 [==============================] - 0s 14ms/step - loss: 1.0446e-04 - val_loss: 0.0139\n",
      "Epoch 61/100\n",
      "1/1 [==============================] - 0s 15ms/step - loss: 9.4764e-05 - val_loss: 0.0138\n",
      "Epoch 62/100\n",
      "1/1 [==============================] - 0s 14ms/step - loss: 8.6589e-05 - val_loss: 0.0137\n",
      "Epoch 63/100\n",
      "1/1 [==============================] - 0s 14ms/step - loss: 7.9706e-05 - val_loss: 0.0136\n",
      "Epoch 64/100\n",
      "1/1 [==============================] - 0s 14ms/step - loss: 7.3882e-05 - val_loss: 0.0135\n",
      "Epoch 65/100\n",
      "1/1 [==============================] - 0s 14ms/step - loss: 6.8880e-05 - val_loss: 0.0134\n",
      "Epoch 66/100\n",
      "1/1 [==============================] - 0s 14ms/step - loss: 6.4498e-05 - val_loss: 0.0133\n",
      "Epoch 67/100\n",
      "1/1 [==============================] - 0s 14ms/step - loss: 6.0590e-05 - val_loss: 0.0132\n",
      "Epoch 68/100\n",
      "1/1 [==============================] - 0s 14ms/step - loss: 5.7061e-05 - val_loss: 0.0131\n",
      "Epoch 69/100\n",
      "1/1 [==============================] - 0s 14ms/step - loss: 5.3860e-05 - val_loss: 0.0131\n",
      "Epoch 70/100\n",
      "1/1 [==============================] - 0s 14ms/step - loss: 5.0952e-05 - val_loss: 0.0130\n",
      "Epoch 71/100\n",
      "1/1 [==============================] - 0s 14ms/step - loss: 4.8310e-05 - val_loss: 0.0130\n",
      "Epoch 72/100\n",
      "1/1 [==============================] - 0s 14ms/step - loss: 4.5893e-05 - val_loss: 0.0130\n",
      "Epoch 73/100\n",
      "1/1 [==============================] - 0s 13ms/step - loss: 4.3643e-05 - val_loss: 0.0129\n",
      "Epoch 74/100\n",
      "1/1 [==============================] - 0s 15ms/step - loss: 4.1487e-05 - val_loss: 0.0129\n",
      "Epoch 75/100\n",
      "1/1 [==============================] - 0s 15ms/step - loss: 3.9344e-05 - val_loss: 0.0129\n",
      "Epoch 76/100\n",
      "1/1 [==============================] - 0s 15ms/step - loss: 3.7139e-05 - val_loss: 0.0129\n",
      "Epoch 77/100\n",
      "1/1 [==============================] - 0s 14ms/step - loss: 3.4822e-05 - val_loss: 0.0129\n",
      "Epoch 78/100\n",
      "1/1 [==============================] - 0s 14ms/step - loss: 3.2374e-05 - val_loss: 0.0128\n",
      "Epoch 79/100\n",
      "1/1 [==============================] - 0s 14ms/step - loss: 2.9820e-05 - val_loss: 0.0128\n",
      "Epoch 80/100\n",
      "1/1 [==============================] - 0s 14ms/step - loss: 2.7224e-05 - val_loss: 0.0128\n",
      "Epoch 81/100\n",
      "1/1 [==============================] - 0s 14ms/step - loss: 2.4677e-05 - val_loss: 0.0127\n",
      "Epoch 82/100\n",
      "1/1 [==============================] - 0s 14ms/step - loss: 2.2283e-05 - val_loss: 0.0127\n",
      "Epoch 83/100\n",
      "1/1 [==============================] - 0s 14ms/step - loss: 2.0134e-05 - val_loss: 0.0126\n",
      "Epoch 84/100\n",
      "1/1 [==============================] - 0s 14ms/step - loss: 1.8294e-05 - val_loss: 0.0126\n",
      "Epoch 85/100\n",
      "1/1 [==============================] - 0s 14ms/step - loss: 1.6788e-05 - val_loss: 0.0125\n",
      "Epoch 86/100\n",
      "1/1 [==============================] - 0s 14ms/step - loss: 1.5597e-05 - val_loss: 0.0125\n",
      "Epoch 87/100\n",
      "1/1 [==============================] - 0s 14ms/step - loss: 1.4670e-05 - val_loss: 0.0125\n",
      "Epoch 88/100\n",
      "1/1 [==============================] - 0s 14ms/step - loss: 1.3931e-05 - val_loss: 0.0124\n",
      "Epoch 89/100\n",
      "1/1 [==============================] - 0s 14ms/step - loss: 1.3301e-05 - val_loss: 0.0124\n",
      "Epoch 90/100\n",
      "1/1 [==============================] - 0s 14ms/step - loss: 1.2708e-05 - val_loss: 0.0124\n",
      "Epoch 91/100\n",
      "1/1 [==============================] - 0s 14ms/step - loss: 1.2102e-05 - val_loss: 0.0123\n",
      "Epoch 92/100\n",
      "1/1 [==============================] - 0s 14ms/step - loss: 1.1458e-05 - val_loss: 0.0123\n",
      "Epoch 93/100\n",
      "1/1 [==============================] - 0s 14ms/step - loss: 1.0774e-05 - val_loss: 0.0123\n",
      "Epoch 94/100\n",
      "1/1 [==============================] - 0s 14ms/step - loss: 1.0066e-05 - val_loss: 0.0123\n",
      "Epoch 95/100\n",
      "1/1 [==============================] - 0s 14ms/step - loss: 9.3587e-06 - val_loss: 0.0123\n",
      "Epoch 96/100\n",
      "1/1 [==============================] - 0s 14ms/step - loss: 8.6779e-06 - val_loss: 0.0123\n",
      "Epoch 97/100\n",
      "1/1 [==============================] - 0s 14ms/step - loss: 8.0439e-06 - val_loss: 0.0122\n",
      "Epoch 98/100\n",
      "1/1 [==============================] - 0s 13ms/step - loss: 7.4672e-06 - val_loss: 0.0122\n",
      "Epoch 99/100\n",
      "1/1 [==============================] - 0s 15ms/step - loss: 6.9489e-06 - val_loss: 0.0122\n",
      "Epoch 100/100\n",
      "1/1 [==============================] - 0s 16ms/step - loss: 6.4832e-06 - val_loss: 0.0122\n"
     ]
    }
   ],
   "source": [
    "history = model.fit(X_train, y_train, validation_data=(X_test, y_test), \n",
    "                    epochs=100, verbose = 1);"
   ]
  },
  {
   "cell_type": "code",
   "execution_count": 48,
   "id": "78b91144-d3eb-48a3-9c37-ebe9c8a204c5",
   "metadata": {},
   "outputs": [
    {
     "data": {
      "image/png": "[encoded data removed]",
      "text/plain": [
       "<Figure size 432x288 with 1 Axes>"
      ]
     },
     "metadata": {
      "needs_background": "light"
     },
     "output_type": "display_data"
    }
   ],
   "source": [
    "plt.plot(history.history['loss'], label='Train loss - mse')\n",
    "plt.plot(history.history['val_loss'], label='Val loss - mse')\n",
    "plt.legend();"
   ]
  },
  {
   "cell_type": "code",
   "execution_count": 52,
   "id": "00cd76b5-6fba-426c-b204-4c8dcc6d2494",
   "metadata": {},
   "outputs": [
    {
     "data": {
      "text/plain": [
       "0.0025462128740543276"
      ]
     },
     "execution_count": 52,
     "metadata": {},
     "output_type": "execute_result"
    }
   ],
   "source": [
    "rmse_training = 6.4832e-06 ** 0.5\n",
    "rmse_training"
   ]
  },
  {
   "cell_type": "code",
   "execution_count": 53,
   "id": "2f1767cc-74c3-4f5c-9ac4-7080d0a20351",
   "metadata": {},
   "outputs": [
    {
     "data": {
      "text/plain": [
       "0.11045361017187261"
      ]
     },
     "execution_count": 53,
     "metadata": {},
     "output_type": "execute_result"
    }
   ],
   "source": [
    "rmse_testing = 0.0122 ** 0.5\n",
    "rmse_testing"
   ]
  },
  {
   "cell_type": "code",
   "execution_count": 54,
   "id": "4237931c-cb2f-4d16-be59-0e764d486496",
   "metadata": {},
   "outputs": [
    {
     "name": "stdout",
     "output_type": "stream",
     "text": [
      "Epoch 1/100\n",
      "1/1 [==============================] - 1s 566ms/step - loss: 0.2226 - val_loss: 0.2169\n",
      "Epoch 2/100\n",
      "1/1 [==============================] - 0s 17ms/step - loss: 0.2174 - val_loss: 0.2196\n",
      "Epoch 3/100\n",
      "1/1 [==============================] - 0s 17ms/step - loss: 0.2235 - val_loss: 0.2162\n",
      "Epoch 4/100\n",
      "1/1 [==============================] - 0s 17ms/step - loss: 0.2141 - val_loss: 0.2119\n",
      "Epoch 5/100\n",
      "1/1 [==============================] - 0s 15ms/step - loss: 0.2114 - val_loss: 0.2084\n",
      "Epoch 6/100\n",
      "1/1 [==============================] - 0s 16ms/step - loss: 0.2096 - val_loss: 0.2057\n",
      "Epoch 7/100\n",
      "1/1 [==============================] - 0s 16ms/step - loss: 0.2061 - val_loss: 0.2031\n",
      "Epoch 8/100\n",
      "1/1 [==============================] - 0s 15ms/step - loss: 0.2055 - val_loss: 0.2010\n",
      "Epoch 9/100\n",
      "1/1 [==============================] - 0s 15ms/step - loss: 0.2019 - val_loss: 0.1989\n",
      "Epoch 10/100\n",
      "1/1 [==============================] - 0s 16ms/step - loss: 0.2000 - val_loss: 0.1969\n",
      "Epoch 11/100\n",
      "1/1 [==============================] - 0s 15ms/step - loss: 0.1966 - val_loss: 0.1949\n",
      "Epoch 12/100\n",
      "1/1 [==============================] - 0s 16ms/step - loss: 0.1963 - val_loss: 0.1929\n",
      "Epoch 13/100\n",
      "1/1 [==============================] - 0s 15ms/step - loss: 0.1945 - val_loss: 0.1908\n",
      "Epoch 14/100\n",
      "1/1 [==============================] - 0s 15ms/step - loss: 0.1908 - val_loss: 0.1887\n",
      "Epoch 15/100\n",
      "1/1 [==============================] - 0s 16ms/step - loss: 0.1885 - val_loss: 0.1866\n",
      "Epoch 16/100\n",
      "1/1 [==============================] - 0s 15ms/step - loss: 0.1863 - val_loss: 0.1844\n",
      "Epoch 17/100\n",
      "1/1 [==============================] - 0s 15ms/step - loss: 0.1838 - val_loss: 0.1823\n",
      "Epoch 18/100\n",
      "1/1 [==============================] - 0s 16ms/step - loss: 0.1825 - val_loss: 0.1802\n",
      "Epoch 19/100\n",
      "1/1 [==============================] - 0s 16ms/step - loss: 0.1809 - val_loss: 0.1780\n",
      "Epoch 20/100\n",
      "1/1 [==============================] - 0s 17ms/step - loss: 0.1777 - val_loss: 0.1758\n",
      "Epoch 21/100\n",
      "1/1 [==============================] - 0s 17ms/step - loss: 0.1765 - val_loss: 0.1735\n",
      "Epoch 22/100\n",
      "1/1 [==============================] - 0s 17ms/step - loss: 0.1735 - val_loss: 0.1713\n",
      "Epoch 23/100\n",
      "1/1 [==============================] - 0s 16ms/step - loss: 0.1714 - val_loss: 0.1691\n",
      "Epoch 24/100\n",
      "1/1 [==============================] - 0s 16ms/step - loss: 0.1693 - val_loss: 0.1670\n",
      "Epoch 25/100\n",
      "1/1 [==============================] - 0s 17ms/step - loss: 0.1675 - val_loss: 0.1650\n",
      "Epoch 26/100\n",
      "1/1 [==============================] - 0s 17ms/step - loss: 0.1655 - val_loss: 0.1630\n",
      "Epoch 27/100\n",
      "1/1 [==============================] - 0s 16ms/step - loss: 0.1637 - val_loss: 0.1611\n",
      "Epoch 28/100\n",
      "1/1 [==============================] - 0s 16ms/step - loss: 0.1615 - val_loss: 0.1591\n",
      "Epoch 29/100\n",
      "1/1 [==============================] - 0s 16ms/step - loss: 0.1600 - val_loss: 0.1572\n",
      "Epoch 30/100\n",
      "1/1 [==============================] - 0s 15ms/step - loss: 0.1573 - val_loss: 0.1553\n",
      "Epoch 31/100\n",
      "1/1 [==============================] - 0s 16ms/step - loss: 0.1559 - val_loss: 0.1534\n",
      "Epoch 32/100\n",
      "1/1 [==============================] - 0s 15ms/step - loss: 0.1539 - val_loss: 0.1516\n",
      "Epoch 33/100\n",
      "1/1 [==============================] - 0s 15ms/step - loss: 0.1519 - val_loss: 0.1497\n",
      "Epoch 34/100\n",
      "1/1 [==============================] - 0s 15ms/step - loss: 0.1498 - val_loss: 0.1479\n",
      "Epoch 35/100\n",
      "1/1 [==============================] - 0s 14ms/step - loss: 0.1482 - val_loss: 0.1461\n",
      "Epoch 36/100\n",
      "1/1 [==============================] - 0s 14ms/step - loss: 0.1462 - val_loss: 0.1443\n",
      "Epoch 37/100\n",
      "1/1 [==============================] - 0s 15ms/step - loss: 0.1446 - val_loss: 0.1425\n",
      "Epoch 38/100\n",
      "1/1 [==============================] - 0s 16ms/step - loss: 0.1427 - val_loss: 0.1407\n",
      "Epoch 39/100\n",
      "1/1 [==============================] - 0s 15ms/step - loss: 0.1412 - val_loss: 0.1390\n",
      "Epoch 40/100\n",
      "1/1 [==============================] - 0s 15ms/step - loss: 0.1391 - val_loss: 0.1373\n",
      "Epoch 41/100\n",
      "1/1 [==============================] - 0s 16ms/step - loss: 0.1375 - val_loss: 0.1356\n",
      "Epoch 42/100\n",
      "1/1 [==============================] - 0s 16ms/step - loss: 0.1356 - val_loss: 0.1339\n",
      "Epoch 43/100\n",
      "1/1 [==============================] - 0s 16ms/step - loss: 0.1340 - val_loss: 0.1322\n",
      "Epoch 44/100\n",
      "1/1 [==============================] - 0s 15ms/step - loss: 0.1325 - val_loss: 0.1305\n",
      "Epoch 45/100\n",
      "1/1 [==============================] - 0s 16ms/step - loss: 0.1307 - val_loss: 0.1289\n",
      "Epoch 46/100\n",
      "1/1 [==============================] - 0s 16ms/step - loss: 0.1289 - val_loss: 0.1272\n",
      "Epoch 47/100\n",
      "1/1 [==============================] - 0s 17ms/step - loss: 0.1273 - val_loss: 0.1256\n",
      "Epoch 48/100\n",
      "1/1 [==============================] - 0s 19ms/step - loss: 0.1259 - val_loss: 0.1240\n",
      "Epoch 49/100\n",
      "1/1 [==============================] - 0s 15ms/step - loss: 0.1241 - val_loss: 0.1224\n",
      "Epoch 50/100\n",
      "1/1 [==============================] - 0s 16ms/step - loss: 0.1227 - val_loss: 0.1209\n",
      "Epoch 51/100\n",
      "1/1 [==============================] - 0s 17ms/step - loss: 0.1212 - val_loss: 0.1193\n",
      "Epoch 52/100\n",
      "1/1 [==============================] - 0s 17ms/step - loss: 0.1195 - val_loss: 0.1178\n",
      "Epoch 53/100\n",
      "1/1 [==============================] - 0s 15ms/step - loss: 0.1181 - val_loss: 0.1163\n",
      "Epoch 54/100\n",
      "1/1 [==============================] - 0s 16ms/step - loss: 0.1166 - val_loss: 0.1148\n",
      "Epoch 55/100\n",
      "1/1 [==============================] - 0s 15ms/step - loss: 0.1149 - val_loss: 0.1134\n",
      "Epoch 56/100\n",
      "1/1 [==============================] - 0s 15ms/step - loss: 0.1135 - val_loss: 0.1119\n",
      "Epoch 57/100\n",
      "1/1 [==============================] - 0s 16ms/step - loss: 0.1120 - val_loss: 0.1105\n",
      "Epoch 58/100\n",
      "1/1 [==============================] - 0s 15ms/step - loss: 0.1106 - val_loss: 0.1091\n",
      "Epoch 59/100\n",
      "1/1 [==============================] - 0s 15ms/step - loss: 0.1092 - val_loss: 0.1077\n",
      "Epoch 60/100\n",
      "1/1 [==============================] - 0s 15ms/step - loss: 0.1078 - val_loss: 0.1063\n",
      "Epoch 61/100\n",
      "1/1 [==============================] - 0s 15ms/step - loss: 0.1064 - val_loss: 0.1049\n",
      "Epoch 62/100\n",
      "1/1 [==============================] - 0s 15ms/step - loss: 0.1050 - val_loss: 0.1036\n",
      "Epoch 63/100\n",
      "1/1 [==============================] - 0s 15ms/step - loss: 0.1037 - val_loss: 0.1022\n",
      "Epoch 64/100\n",
      "1/1 [==============================] - 0s 15ms/step - loss: 0.1023 - val_loss: 0.1009\n",
      "Epoch 65/100\n",
      "1/1 [==============================] - 0s 15ms/step - loss: 0.1010 - val_loss: 0.0996\n",
      "Epoch 66/100\n",
      "1/1 [==============================] - 0s 15ms/step - loss: 0.0997 - val_loss: 0.0983\n",
      "Epoch 67/100\n",
      "1/1 [==============================] - 0s 15ms/step - loss: 0.0984 - val_loss: 0.0971\n",
      "Epoch 68/100\n",
      "1/1 [==============================] - 0s 16ms/step - loss: 0.0971 - val_loss: 0.0958\n",
      "Epoch 69/100\n",
      "1/1 [==============================] - 0s 16ms/step - loss: 0.0959 - val_loss: 0.0946\n",
      "Epoch 70/100\n",
      "1/1 [==============================] - 0s 16ms/step - loss: 0.0946 - val_loss: 0.0933\n",
      "Epoch 71/100\n",
      "1/1 [==============================] - 0s 15ms/step - loss: 0.0935 - val_loss: 0.0921\n",
      "Epoch 72/100\n",
      "1/1 [==============================] - 0s 15ms/step - loss: 0.0922 - val_loss: 0.0909\n",
      "Epoch 73/100\n",
      "1/1 [==============================] - 0s 15ms/step - loss: 0.0910 - val_loss: 0.0897\n",
      "Epoch 74/100\n",
      "1/1 [==============================] - 0s 15ms/step - loss: 0.0898 - val_loss: 0.0886\n",
      "Epoch 75/100\n",
      "1/1 [==============================] - 0s 15ms/step - loss: 0.0886 - val_loss: 0.0874\n",
      "Epoch 76/100\n",
      "1/1 [==============================] - 0s 16ms/step - loss: 0.0875 - val_loss: 0.0863\n",
      "Epoch 77/100\n",
      "1/1 [==============================] - 0s 15ms/step - loss: 0.0863 - val_loss: 0.0852\n",
      "Epoch 78/100\n",
      "1/1 [==============================] - 0s 15ms/step - loss: 0.0852 - val_loss: 0.0840\n",
      "Epoch 79/100\n",
      "1/1 [==============================] - 0s 15ms/step - loss: 0.0842 - val_loss: 0.0830\n",
      "Epoch 80/100\n",
      "1/1 [==============================] - 0s 15ms/step - loss: 0.0830 - val_loss: 0.0819\n",
      "Epoch 81/100\n",
      "1/1 [==============================] - 0s 15ms/step - loss: 0.0819 - val_loss: 0.0808\n",
      "Epoch 82/100\n",
      "1/1 [==============================] - 0s 16ms/step - loss: 0.0809 - val_loss: 0.0798\n",
      "Epoch 83/100\n",
      "1/1 [==============================] - 0s 16ms/step - loss: 0.0798 - val_loss: 0.0787\n",
      "Epoch 84/100\n",
      "1/1 [==============================] - 0s 15ms/step - loss: 0.0787 - val_loss: 0.0777\n",
      "Epoch 85/100\n",
      "1/1 [==============================] - 0s 15ms/step - loss: 0.0777 - val_loss: 0.0767\n",
      "Epoch 86/100\n",
      "1/1 [==============================] - 0s 15ms/step - loss: 0.0767 - val_loss: 0.0757\n",
      "Epoch 87/100\n",
      "1/1 [==============================] - 0s 15ms/step - loss: 0.0757 - val_loss: 0.0747\n",
      "Epoch 88/100\n",
      "1/1 [==============================] - 0s 16ms/step - loss: 0.0747 - val_loss: 0.0737\n",
      "Epoch 89/100\n",
      "1/1 [==============================] - 0s 15ms/step - loss: 0.0737 - val_loss: 0.0727\n",
      "Epoch 90/100\n",
      "1/1 [==============================] - 0s 15ms/step - loss: 0.0727 - val_loss: 0.0718\n",
      "Epoch 91/100\n",
      "1/1 [==============================] - 0s 16ms/step - loss: 0.0718 - val_loss: 0.0708\n",
      "Epoch 92/100\n",
      "1/1 [==============================] - 0s 16ms/step - loss: 0.0709 - val_loss: 0.0699\n",
      "Epoch 93/100\n",
      "1/1 [==============================] - 0s 15ms/step - loss: 0.0699 - val_loss: 0.0690\n",
      "Epoch 94/100\n",
      "1/1 [==============================] - 0s 15ms/step - loss: 0.0690 - val_loss: 0.0681\n",
      "Epoch 95/100\n",
      "1/1 [==============================] - 0s 15ms/step - loss: 0.0681 - val_loss: 0.0672\n",
      "Epoch 96/100\n",
      "1/1 [==============================] - 0s 16ms/step - loss: 0.0672 - val_loss: 0.0663\n",
      "Epoch 97/100\n",
      "1/1 [==============================] - 0s 16ms/step - loss: 0.0663 - val_loss: 0.0654\n",
      "Epoch 98/100\n",
      "1/1 [==============================] - 0s 15ms/step - loss: 0.0655 - val_loss: 0.0646\n",
      "Epoch 99/100\n",
      "1/1 [==============================] - 0s 37ms/step - loss: 0.0646 - val_loss: 0.0637\n",
      "Epoch 100/100\n",
      "1/1 [==============================] - 0s 16ms/step - loss: 0.0638 - val_loss: 0.0629\n"
     ]
    }
   ],
   "source": [
    "from tensorflow.keras.callbacks import EarlyStopping\n",
    "from tensorflow.keras.regularizers import l2\n",
    "\n",
    "model_l2 = Sequential()\n",
    "\n",
    "# BatchNormalization layer\n",
    "model_l2.add(BatchNormalization())\n",
    "\n",
    "# first layer\n",
    "model_l2.add(Dense(24,\n",
    "               input_shape=(X_train.shape[1],),\n",
    "               activation='relu', kernel_regularizer=l2(0.001)))\n",
    "\n",
    "# second layer (Hidden layer)\n",
    "model_l2.add(Dense(64, activation='relu', kernel_regularizer=l2(0.001)))\n",
    "model_l2.add(Dropout(0.05))\n",
    "\n",
    "# third layer (Hidden layer)\n",
    "model_l2.add(Dense(128, activation='relu', kernel_regularizer=l2(0.001)))\n",
    "model_l2.add(Dropout(0.2))\n",
    "\n",
    "# fourth layer (Hidden layer)\n",
    "model_l2.add(Dense(64, activation='relu', kernel_regularizer=l2(0.001)))\n",
    "\n",
    "# output layer\n",
    "model_l2.add(Dense(1, kernel_regularizer=l2(0.001)))\n",
    "\n",
    "# compile model\n",
    "model_l2.compile(loss='mse', optimizer='adam')\n",
    "\n",
    "# creating a callback\n",
    "early_stop = EarlyStopping(monitor='val_loss', min_delta=0, patience=5, verbose=0, mode='auto')\n",
    "\n",
    "# Fit the model\n",
    "history_l2 = model_l2.fit(X_train, y_train, validation_data = (X_test, y_test), \n",
    "                          epochs=100, batch_size = None, callbacks=[early_stop])"
   ]
  },
  {
   "cell_type": "code",
   "execution_count": 55,
   "id": "2e85f05a-7d19-4883-a53c-539a01239aa1",
   "metadata": {},
   "outputs": [
    {
     "data": {
      "image/png": "[encoded data removed]",
      "text/plain": [
       "<Figure size 864x576 with 1 Axes>"
      ]
     },
     "metadata": {
      "needs_background": "light"
     },
     "output_type": "display_data"
    }
   ],
   "source": [
    "# Plotting loss\n",
    "plt.figure(figsize=(12, 8))\n",
    "plt.plot(history_l2.history['loss'], label='L2 Training loss')\n",
    "plt.plot(history_l2.history['val_loss'], label='L2 Testing loss')\n",
    "plt.legend();"
   ]
  },
  {
   "cell_type": "code",
   "execution_count": 56,
   "id": "0c45e927-72e1-4b06-9541-e902ff458d0b",
   "metadata": {},
   "outputs": [
    {
     "data": {
      "text/plain": [
       "0.2525866188063018"
      ]
     },
     "execution_count": 56,
     "metadata": {},
     "output_type": "execute_result"
    }
   ],
   "source": [
    "rmse_training = 0.0638 ** 0.5\n",
    "rmse_training"
   ]
  },
  {
   "cell_type": "code",
   "execution_count": 57,
   "id": "cd095b4e-4487-482e-a3d3-564fc4ccd556",
   "metadata": {},
   "outputs": [
    {
     "data": {
      "text/plain": [
       "0.25079872407968906"
      ]
     },
     "execution_count": 57,
     "metadata": {},
     "output_type": "execute_result"
    }
   ],
   "source": [
    "rmse_testing = 0.0629 ** 0.5\n",
    "rmse_testing"
   ]
  },
  {
   "cell_type": "code",
   "execution_count": null,
   "id": "19bfc313-a2a2-4742-9ebf-60dd6f54fcf5",
   "metadata": {},
   "outputs": [],
   "source": []
  }
 ],
 "metadata": {
  "kernelspec": {
   "display_name": "Python 3",
   "language": "python",
   "name": "python3"
  },
  "language_info": {
   "codemirror_mode": {
    "name": "ipython",
    "version": 3
   },
   "file_extension": ".py",
   "mimetype": "text/x-python",
   "name": "python",
   "nbconvert_exporter": "python",
   "pygments_lexer": "ipython3",
   "version": "3.8.8"
  }
 },
 "nbformat": 4,
 "nbformat_minor": 5
}
